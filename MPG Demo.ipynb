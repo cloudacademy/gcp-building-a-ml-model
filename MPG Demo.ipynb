{
 "cells": [
  {
   "cell_type": "markdown",
   "id": "b6feab51-46f2-428b-9d59-55a9cb53fd5b",
   "metadata": {
    "tags": []
   },
   "source": [
    "# 1) Setup"
   ]
  },
  {
   "cell_type": "code",
   "execution_count": 1,
   "id": "1c18f1e6-7b92-40a0-9ca7-0a24c5eaeb47",
   "metadata": {},
   "outputs": [],
   "source": [
    "# Run the following command to install Jupyter via Docker container:\n",
    "# docker run -p 8888:8888 -v $(pwd):/home/jovyan/work jupyter/tensorflow-notebook\n",
    "\n",
    "# Run this command once:\n",
    "# !conda install graphviz -y"
   ]
  },
  {
   "cell_type": "markdown",
   "id": "34ca7001-9940-447d-b0e8-3acf3191db44",
   "metadata": {
    "jp-MarkdownHeadingCollapsed": true,
    "tags": []
   },
   "source": [
    "# 2) Preparing the Data"
   ]
  },
  {
   "cell_type": "markdown",
   "id": "f71596d8-278d-44f2-91f3-a93214130abd",
   "metadata": {},
   "source": [
    "## Import"
   ]
  },
  {
   "cell_type": "code",
   "execution_count": 2,
   "id": "96837148-85d5-4821-beed-bf4e761f9824",
   "metadata": {},
   "outputs": [],
   "source": [
    "import pandas as pd"
   ]
  },
  {
   "cell_type": "code",
   "execution_count": 3,
   "id": "5150009b-6098-44b3-a61d-0d30b86baf95",
   "metadata": {},
   "outputs": [],
   "source": [
    "# Read in the CSV file\n",
    "original_data = pd.read_csv(\"car-data.csv\")"
   ]
  },
  {
   "cell_type": "code",
   "execution_count": 4,
   "id": "803fea8c-6f44-48fd-b72c-7f3a153be7a9",
   "metadata": {},
   "outputs": [
    {
     "data": {
      "text/html": [
       "<div>\n",
       "<style scoped>\n",
       "    .dataframe tbody tr th:only-of-type {\n",
       "        vertical-align: middle;\n",
       "    }\n",
       "\n",
       "    .dataframe tbody tr th {\n",
       "        vertical-align: top;\n",
       "    }\n",
       "\n",
       "    .dataframe thead th {\n",
       "        text-align: right;\n",
       "    }\n",
       "</style>\n",
       "<table border=\"1\" class=\"dataframe\">\n",
       "  <thead>\n",
       "    <tr style=\"text-align: right;\">\n",
       "      <th></th>\n",
       "      <th>mpg</th>\n",
       "      <th>cyl</th>\n",
       "      <th>disp</th>\n",
       "      <th>hp</th>\n",
       "      <th>wgt</th>\n",
       "      <th>acc</th>\n",
       "      <th>country</th>\n",
       "      <th>year</th>\n",
       "      <th>make</th>\n",
       "      <th>model</th>\n",
       "    </tr>\n",
       "  </thead>\n",
       "  <tbody>\n",
       "    <tr>\n",
       "      <th>0</th>\n",
       "      <td>18.0</td>\n",
       "      <td>8</td>\n",
       "      <td>307.0</td>\n",
       "      <td>130</td>\n",
       "      <td>3504</td>\n",
       "      <td>12.0</td>\n",
       "      <td>1</td>\n",
       "      <td>70</td>\n",
       "      <td>chevrolet</td>\n",
       "      <td>chevelle malibu</td>\n",
       "    </tr>\n",
       "    <tr>\n",
       "      <th>1</th>\n",
       "      <td>15.0</td>\n",
       "      <td>8</td>\n",
       "      <td>350.0</td>\n",
       "      <td>165</td>\n",
       "      <td>3693</td>\n",
       "      <td>11.5</td>\n",
       "      <td>1</td>\n",
       "      <td>70</td>\n",
       "      <td>buick</td>\n",
       "      <td>skylark 320</td>\n",
       "    </tr>\n",
       "    <tr>\n",
       "      <th>2</th>\n",
       "      <td>18.0</td>\n",
       "      <td>8</td>\n",
       "      <td>318.0</td>\n",
       "      <td>150</td>\n",
       "      <td>3436</td>\n",
       "      <td>11.0</td>\n",
       "      <td>1</td>\n",
       "      <td>70</td>\n",
       "      <td>plymouth</td>\n",
       "      <td>satellite</td>\n",
       "    </tr>\n",
       "    <tr>\n",
       "      <th>3</th>\n",
       "      <td>16.0</td>\n",
       "      <td>8</td>\n",
       "      <td>304.0</td>\n",
       "      <td>150</td>\n",
       "      <td>3433</td>\n",
       "      <td>12.0</td>\n",
       "      <td>1</td>\n",
       "      <td>70</td>\n",
       "      <td>amc</td>\n",
       "      <td>rebel sst</td>\n",
       "    </tr>\n",
       "    <tr>\n",
       "      <th>4</th>\n",
       "      <td>17.0</td>\n",
       "      <td>8</td>\n",
       "      <td>302.0</td>\n",
       "      <td>140</td>\n",
       "      <td>3449</td>\n",
       "      <td>10.5</td>\n",
       "      <td>1</td>\n",
       "      <td>70</td>\n",
       "      <td>ford</td>\n",
       "      <td>torino</td>\n",
       "    </tr>\n",
       "    <tr>\n",
       "      <th>...</th>\n",
       "      <td>...</td>\n",
       "      <td>...</td>\n",
       "      <td>...</td>\n",
       "      <td>...</td>\n",
       "      <td>...</td>\n",
       "      <td>...</td>\n",
       "      <td>...</td>\n",
       "      <td>...</td>\n",
       "      <td>...</td>\n",
       "      <td>...</td>\n",
       "    </tr>\n",
       "    <tr>\n",
       "      <th>393</th>\n",
       "      <td>27.0</td>\n",
       "      <td>4</td>\n",
       "      <td>140.0</td>\n",
       "      <td>86</td>\n",
       "      <td>2790</td>\n",
       "      <td>15.6</td>\n",
       "      <td>1</td>\n",
       "      <td>82</td>\n",
       "      <td>ford</td>\n",
       "      <td>mustang gl</td>\n",
       "    </tr>\n",
       "    <tr>\n",
       "      <th>394</th>\n",
       "      <td>44.0</td>\n",
       "      <td>4</td>\n",
       "      <td>97.0</td>\n",
       "      <td>52</td>\n",
       "      <td>2130</td>\n",
       "      <td>24.6</td>\n",
       "      <td>2</td>\n",
       "      <td>82</td>\n",
       "      <td>vw</td>\n",
       "      <td>pickup</td>\n",
       "    </tr>\n",
       "    <tr>\n",
       "      <th>395</th>\n",
       "      <td>32.0</td>\n",
       "      <td>4</td>\n",
       "      <td>135.0</td>\n",
       "      <td>84</td>\n",
       "      <td>2295</td>\n",
       "      <td>11.6</td>\n",
       "      <td>1</td>\n",
       "      <td>82</td>\n",
       "      <td>dodge</td>\n",
       "      <td>rampage</td>\n",
       "    </tr>\n",
       "    <tr>\n",
       "      <th>396</th>\n",
       "      <td>28.0</td>\n",
       "      <td>4</td>\n",
       "      <td>120.0</td>\n",
       "      <td>79</td>\n",
       "      <td>2625</td>\n",
       "      <td>18.6</td>\n",
       "      <td>1</td>\n",
       "      <td>82</td>\n",
       "      <td>ford</td>\n",
       "      <td>ranger</td>\n",
       "    </tr>\n",
       "    <tr>\n",
       "      <th>397</th>\n",
       "      <td>31.0</td>\n",
       "      <td>4</td>\n",
       "      <td>119.0</td>\n",
       "      <td>82</td>\n",
       "      <td>2720</td>\n",
       "      <td>19.4</td>\n",
       "      <td>1</td>\n",
       "      <td>82</td>\n",
       "      <td>chevy</td>\n",
       "      <td>s-10</td>\n",
       "    </tr>\n",
       "  </tbody>\n",
       "</table>\n",
       "<p>398 rows × 10 columns</p>\n",
       "</div>"
      ],
      "text/plain": [
       "      mpg  cyl   disp   hp   wgt   acc  country  year       make  \\\n",
       "0    18.0    8  307.0  130  3504  12.0        1    70  chevrolet   \n",
       "1    15.0    8  350.0  165  3693  11.5        1    70      buick   \n",
       "2    18.0    8  318.0  150  3436  11.0        1    70   plymouth   \n",
       "3    16.0    8  304.0  150  3433  12.0        1    70        amc   \n",
       "4    17.0    8  302.0  140  3449  10.5        1    70       ford   \n",
       "..    ...  ...    ...  ...   ...   ...      ...   ...        ...   \n",
       "393  27.0    4  140.0   86  2790  15.6        1    82       ford   \n",
       "394  44.0    4   97.0   52  2130  24.6        2    82         vw   \n",
       "395  32.0    4  135.0   84  2295  11.6        1    82      dodge   \n",
       "396  28.0    4  120.0   79  2625  18.6        1    82       ford   \n",
       "397  31.0    4  119.0   82  2720  19.4        1    82      chevy   \n",
       "\n",
       "               model  \n",
       "0    chevelle malibu  \n",
       "1        skylark 320  \n",
       "2          satellite  \n",
       "3          rebel sst  \n",
       "4             torino  \n",
       "..               ...  \n",
       "393       mustang gl  \n",
       "394           pickup  \n",
       "395          rampage  \n",
       "396           ranger  \n",
       "397          s-10     \n",
       "\n",
       "[398 rows x 10 columns]"
      ]
     },
     "execution_count": 4,
     "metadata": {},
     "output_type": "execute_result"
    }
   ],
   "source": [
    "# Preview the imported records\n",
    "original_data"
   ]
  },
  {
   "cell_type": "code",
   "execution_count": 5,
   "id": "79dbce17-6728-4e53-aeeb-7a0bed3d896f",
   "metadata": {},
   "outputs": [
    {
     "data": {
      "text/html": [
       "<div>\n",
       "<style scoped>\n",
       "    .dataframe tbody tr th:only-of-type {\n",
       "        vertical-align: middle;\n",
       "    }\n",
       "\n",
       "    .dataframe tbody tr th {\n",
       "        vertical-align: top;\n",
       "    }\n",
       "\n",
       "    .dataframe thead th {\n",
       "        text-align: right;\n",
       "    }\n",
       "</style>\n",
       "<table border=\"1\" class=\"dataframe\">\n",
       "  <thead>\n",
       "    <tr style=\"text-align: right;\">\n",
       "      <th></th>\n",
       "      <th>mpg</th>\n",
       "      <th>cyl</th>\n",
       "      <th>disp</th>\n",
       "      <th>hp</th>\n",
       "      <th>wgt</th>\n",
       "      <th>acc</th>\n",
       "      <th>country</th>\n",
       "      <th>year</th>\n",
       "      <th>make</th>\n",
       "      <th>model</th>\n",
       "    </tr>\n",
       "  </thead>\n",
       "  <tbody>\n",
       "    <tr>\n",
       "      <th>0</th>\n",
       "      <td>18.0</td>\n",
       "      <td>8</td>\n",
       "      <td>307.0</td>\n",
       "      <td>130</td>\n",
       "      <td>3504</td>\n",
       "      <td>12.0</td>\n",
       "      <td>1</td>\n",
       "      <td>70</td>\n",
       "      <td>chevrolet</td>\n",
       "      <td>chevelle malibu</td>\n",
       "    </tr>\n",
       "    <tr>\n",
       "      <th>1</th>\n",
       "      <td>15.0</td>\n",
       "      <td>8</td>\n",
       "      <td>350.0</td>\n",
       "      <td>165</td>\n",
       "      <td>3693</td>\n",
       "      <td>11.5</td>\n",
       "      <td>1</td>\n",
       "      <td>70</td>\n",
       "      <td>buick</td>\n",
       "      <td>skylark 320</td>\n",
       "    </tr>\n",
       "    <tr>\n",
       "      <th>2</th>\n",
       "      <td>18.0</td>\n",
       "      <td>8</td>\n",
       "      <td>318.0</td>\n",
       "      <td>150</td>\n",
       "      <td>3436</td>\n",
       "      <td>11.0</td>\n",
       "      <td>1</td>\n",
       "      <td>70</td>\n",
       "      <td>plymouth</td>\n",
       "      <td>satellite</td>\n",
       "    </tr>\n",
       "    <tr>\n",
       "      <th>3</th>\n",
       "      <td>16.0</td>\n",
       "      <td>8</td>\n",
       "      <td>304.0</td>\n",
       "      <td>150</td>\n",
       "      <td>3433</td>\n",
       "      <td>12.0</td>\n",
       "      <td>1</td>\n",
       "      <td>70</td>\n",
       "      <td>amc</td>\n",
       "      <td>rebel sst</td>\n",
       "    </tr>\n",
       "    <tr>\n",
       "      <th>4</th>\n",
       "      <td>17.0</td>\n",
       "      <td>8</td>\n",
       "      <td>302.0</td>\n",
       "      <td>140</td>\n",
       "      <td>3449</td>\n",
       "      <td>10.5</td>\n",
       "      <td>1</td>\n",
       "      <td>70</td>\n",
       "      <td>ford</td>\n",
       "      <td>torino</td>\n",
       "    </tr>\n",
       "  </tbody>\n",
       "</table>\n",
       "</div>"
      ],
      "text/plain": [
       "    mpg  cyl   disp   hp   wgt   acc  country  year       make  \\\n",
       "0  18.0    8  307.0  130  3504  12.0        1    70  chevrolet   \n",
       "1  15.0    8  350.0  165  3693  11.5        1    70      buick   \n",
       "2  18.0    8  318.0  150  3436  11.0        1    70   plymouth   \n",
       "3  16.0    8  304.0  150  3433  12.0        1    70        amc   \n",
       "4  17.0    8  302.0  140  3449  10.5        1    70       ford   \n",
       "\n",
       "             model  \n",
       "0  chevelle malibu  \n",
       "1      skylark 320  \n",
       "2        satellite  \n",
       "3        rebel sst  \n",
       "4           torino  "
      ]
     },
     "execution_count": 5,
     "metadata": {},
     "output_type": "execute_result"
    }
   ],
   "source": [
    "# View the first 5 records\n",
    "original_data.head()"
   ]
  },
  {
   "cell_type": "code",
   "execution_count": 6,
   "id": "70306db4-6900-46c2-bbce-43b878cfe061",
   "metadata": {},
   "outputs": [
    {
     "data": {
      "text/html": [
       "<div>\n",
       "<style scoped>\n",
       "    .dataframe tbody tr th:only-of-type {\n",
       "        vertical-align: middle;\n",
       "    }\n",
       "\n",
       "    .dataframe tbody tr th {\n",
       "        vertical-align: top;\n",
       "    }\n",
       "\n",
       "    .dataframe thead th {\n",
       "        text-align: right;\n",
       "    }\n",
       "</style>\n",
       "<table border=\"1\" class=\"dataframe\">\n",
       "  <thead>\n",
       "    <tr style=\"text-align: right;\">\n",
       "      <th></th>\n",
       "      <th>mpg</th>\n",
       "      <th>cyl</th>\n",
       "      <th>disp</th>\n",
       "      <th>hp</th>\n",
       "      <th>wgt</th>\n",
       "      <th>acc</th>\n",
       "      <th>country</th>\n",
       "      <th>year</th>\n",
       "      <th>make</th>\n",
       "      <th>model</th>\n",
       "    </tr>\n",
       "  </thead>\n",
       "  <tbody>\n",
       "    <tr>\n",
       "      <th>395</th>\n",
       "      <td>32.0</td>\n",
       "      <td>4</td>\n",
       "      <td>135.0</td>\n",
       "      <td>84</td>\n",
       "      <td>2295</td>\n",
       "      <td>11.6</td>\n",
       "      <td>1</td>\n",
       "      <td>82</td>\n",
       "      <td>dodge</td>\n",
       "      <td>rampage</td>\n",
       "    </tr>\n",
       "    <tr>\n",
       "      <th>396</th>\n",
       "      <td>28.0</td>\n",
       "      <td>4</td>\n",
       "      <td>120.0</td>\n",
       "      <td>79</td>\n",
       "      <td>2625</td>\n",
       "      <td>18.6</td>\n",
       "      <td>1</td>\n",
       "      <td>82</td>\n",
       "      <td>ford</td>\n",
       "      <td>ranger</td>\n",
       "    </tr>\n",
       "    <tr>\n",
       "      <th>397</th>\n",
       "      <td>31.0</td>\n",
       "      <td>4</td>\n",
       "      <td>119.0</td>\n",
       "      <td>82</td>\n",
       "      <td>2720</td>\n",
       "      <td>19.4</td>\n",
       "      <td>1</td>\n",
       "      <td>82</td>\n",
       "      <td>chevy</td>\n",
       "      <td>s-10</td>\n",
       "    </tr>\n",
       "  </tbody>\n",
       "</table>\n",
       "</div>"
      ],
      "text/plain": [
       "      mpg  cyl   disp  hp   wgt   acc  country  year   make    model\n",
       "395  32.0    4  135.0  84  2295  11.6        1    82  dodge  rampage\n",
       "396  28.0    4  120.0  79  2625  18.6        1    82   ford   ranger\n",
       "397  31.0    4  119.0  82  2720  19.4        1    82  chevy  s-10   "
      ]
     },
     "execution_count": 6,
     "metadata": {},
     "output_type": "execute_result"
    }
   ],
   "source": [
    "# View the last 3 records\n",
    "original_data.tail(3)"
   ]
  },
  {
   "cell_type": "code",
   "execution_count": 7,
   "id": "5054830f-2bda-4b36-8f10-60c23f243611",
   "metadata": {},
   "outputs": [
    {
     "data": {
      "text/plain": [
       "mpg                 15.0\n",
       "cyl                    8\n",
       "disp               383.0\n",
       "hp                   170\n",
       "wgt                 3563\n",
       "acc                 10.0\n",
       "country                1\n",
       "year                  70\n",
       "make               dodge\n",
       "model      challenger se\n",
       "Name: 10, dtype: object"
      ]
     },
     "execution_count": 7,
     "metadata": {},
     "output_type": "execute_result"
    }
   ],
   "source": [
    "# View row #11\n",
    "original_data.iloc[10]"
   ]
  },
  {
   "cell_type": "markdown",
   "id": "6045eb36-c80d-4bfd-94ab-bb3a0ad7e805",
   "metadata": {},
   "source": [
    "## Cleanup / Validation"
   ]
  },
  {
   "cell_type": "code",
   "execution_count": 8,
   "id": "2d7a35ab-6031-4b3b-b80d-401634502a31",
   "metadata": {},
   "outputs": [],
   "source": [
    "# Make a copy of my imported data\n",
    "data = original_data.copy()"
   ]
  },
  {
   "cell_type": "code",
   "execution_count": 9,
   "id": "cb4bd670-811f-46ee-8ab0-8819df487ce8",
   "metadata": {},
   "outputs": [
    {
     "data": {
      "text/html": [
       "<div>\n",
       "<style scoped>\n",
       "    .dataframe tbody tr th:only-of-type {\n",
       "        vertical-align: middle;\n",
       "    }\n",
       "\n",
       "    .dataframe tbody tr th {\n",
       "        vertical-align: top;\n",
       "    }\n",
       "\n",
       "    .dataframe thead th {\n",
       "        text-align: right;\n",
       "    }\n",
       "</style>\n",
       "<table border=\"1\" class=\"dataframe\">\n",
       "  <thead>\n",
       "    <tr style=\"text-align: right;\">\n",
       "      <th></th>\n",
       "      <th>mpg</th>\n",
       "      <th>cyl</th>\n",
       "      <th>disp</th>\n",
       "      <th>hp</th>\n",
       "      <th>wgt</th>\n",
       "      <th>acc</th>\n",
       "      <th>country</th>\n",
       "      <th>year</th>\n",
       "      <th>make</th>\n",
       "      <th>model</th>\n",
       "    </tr>\n",
       "  </thead>\n",
       "  <tbody>\n",
       "    <tr>\n",
       "      <th>0</th>\n",
       "      <td>18.0</td>\n",
       "      <td>8</td>\n",
       "      <td>307.0</td>\n",
       "      <td>130</td>\n",
       "      <td>3504</td>\n",
       "      <td>12.0</td>\n",
       "      <td>1</td>\n",
       "      <td>70</td>\n",
       "      <td>chevrolet</td>\n",
       "      <td>chevelle malibu</td>\n",
       "    </tr>\n",
       "    <tr>\n",
       "      <th>1</th>\n",
       "      <td>15.0</td>\n",
       "      <td>8</td>\n",
       "      <td>350.0</td>\n",
       "      <td>165</td>\n",
       "      <td>3693</td>\n",
       "      <td>11.5</td>\n",
       "      <td>1</td>\n",
       "      <td>70</td>\n",
       "      <td>buick</td>\n",
       "      <td>skylark 320</td>\n",
       "    </tr>\n",
       "    <tr>\n",
       "      <th>2</th>\n",
       "      <td>18.0</td>\n",
       "      <td>8</td>\n",
       "      <td>318.0</td>\n",
       "      <td>150</td>\n",
       "      <td>3436</td>\n",
       "      <td>11.0</td>\n",
       "      <td>1</td>\n",
       "      <td>70</td>\n",
       "      <td>plymouth</td>\n",
       "      <td>satellite</td>\n",
       "    </tr>\n",
       "    <tr>\n",
       "      <th>3</th>\n",
       "      <td>16.0</td>\n",
       "      <td>8</td>\n",
       "      <td>304.0</td>\n",
       "      <td>150</td>\n",
       "      <td>3433</td>\n",
       "      <td>12.0</td>\n",
       "      <td>1</td>\n",
       "      <td>70</td>\n",
       "      <td>amc</td>\n",
       "      <td>rebel sst</td>\n",
       "    </tr>\n",
       "    <tr>\n",
       "      <th>4</th>\n",
       "      <td>17.0</td>\n",
       "      <td>8</td>\n",
       "      <td>302.0</td>\n",
       "      <td>140</td>\n",
       "      <td>3449</td>\n",
       "      <td>10.5</td>\n",
       "      <td>1</td>\n",
       "      <td>70</td>\n",
       "      <td>ford</td>\n",
       "      <td>torino</td>\n",
       "    </tr>\n",
       "  </tbody>\n",
       "</table>\n",
       "</div>"
      ],
      "text/plain": [
       "    mpg  cyl   disp   hp   wgt   acc  country  year       make  \\\n",
       "0  18.0    8  307.0  130  3504  12.0        1    70  chevrolet   \n",
       "1  15.0    8  350.0  165  3693  11.5        1    70      buick   \n",
       "2  18.0    8  318.0  150  3436  11.0        1    70   plymouth   \n",
       "3  16.0    8  304.0  150  3433  12.0        1    70        amc   \n",
       "4  17.0    8  302.0  140  3449  10.5        1    70       ford   \n",
       "\n",
       "             model  \n",
       "0  chevelle malibu  \n",
       "1      skylark 320  \n",
       "2        satellite  \n",
       "3        rebel sst  \n",
       "4           torino  "
      ]
     },
     "execution_count": 9,
     "metadata": {},
     "output_type": "execute_result"
    }
   ],
   "source": [
    "data.head()"
   ]
  },
  {
   "cell_type": "code",
   "execution_count": 10,
   "id": "dbf91a68-ef60-467c-ad68-c7c4e7cbbfdf",
   "metadata": {},
   "outputs": [],
   "source": [
    "# Rename the columns\n",
    "cols = {\n",
    "        \"mpg\":     \"MPG\",\n",
    "        \"cyl\":     \"Cylinders\",\n",
    "        \"disp\":    \"Displacement\",\n",
    "        \"hp\":      \"Horsepower\",\n",
    "        \"wgt\":     \"Weight\",\n",
    "        \"acc\":     \"Acceleration\",\n",
    "        \"country\": \"Country\",\n",
    "        \"year\":    \"Year\", \n",
    "        \"make\":    \"Make\",\n",
    "        \"model\":   \"Model\"\n",
    "}\n",
    "data = data.rename(columns=cols)"
   ]
  },
  {
   "cell_type": "code",
   "execution_count": 11,
   "id": "ef958765-f68b-4831-9a6c-595413f17d16",
   "metadata": {},
   "outputs": [
    {
     "data": {
      "text/html": [
       "<div>\n",
       "<style scoped>\n",
       "    .dataframe tbody tr th:only-of-type {\n",
       "        vertical-align: middle;\n",
       "    }\n",
       "\n",
       "    .dataframe tbody tr th {\n",
       "        vertical-align: top;\n",
       "    }\n",
       "\n",
       "    .dataframe thead th {\n",
       "        text-align: right;\n",
       "    }\n",
       "</style>\n",
       "<table border=\"1\" class=\"dataframe\">\n",
       "  <thead>\n",
       "    <tr style=\"text-align: right;\">\n",
       "      <th></th>\n",
       "      <th>MPG</th>\n",
       "      <th>Cylinders</th>\n",
       "      <th>Displacement</th>\n",
       "      <th>Horsepower</th>\n",
       "      <th>Weight</th>\n",
       "      <th>Acceleration</th>\n",
       "      <th>Country</th>\n",
       "      <th>Year</th>\n",
       "      <th>Make</th>\n",
       "      <th>Model</th>\n",
       "    </tr>\n",
       "  </thead>\n",
       "  <tbody>\n",
       "    <tr>\n",
       "      <th>0</th>\n",
       "      <td>18.0</td>\n",
       "      <td>8</td>\n",
       "      <td>307.0</td>\n",
       "      <td>130</td>\n",
       "      <td>3504</td>\n",
       "      <td>12.0</td>\n",
       "      <td>1</td>\n",
       "      <td>70</td>\n",
       "      <td>chevrolet</td>\n",
       "      <td>chevelle malibu</td>\n",
       "    </tr>\n",
       "    <tr>\n",
       "      <th>1</th>\n",
       "      <td>15.0</td>\n",
       "      <td>8</td>\n",
       "      <td>350.0</td>\n",
       "      <td>165</td>\n",
       "      <td>3693</td>\n",
       "      <td>11.5</td>\n",
       "      <td>1</td>\n",
       "      <td>70</td>\n",
       "      <td>buick</td>\n",
       "      <td>skylark 320</td>\n",
       "    </tr>\n",
       "    <tr>\n",
       "      <th>2</th>\n",
       "      <td>18.0</td>\n",
       "      <td>8</td>\n",
       "      <td>318.0</td>\n",
       "      <td>150</td>\n",
       "      <td>3436</td>\n",
       "      <td>11.0</td>\n",
       "      <td>1</td>\n",
       "      <td>70</td>\n",
       "      <td>plymouth</td>\n",
       "      <td>satellite</td>\n",
       "    </tr>\n",
       "    <tr>\n",
       "      <th>3</th>\n",
       "      <td>16.0</td>\n",
       "      <td>8</td>\n",
       "      <td>304.0</td>\n",
       "      <td>150</td>\n",
       "      <td>3433</td>\n",
       "      <td>12.0</td>\n",
       "      <td>1</td>\n",
       "      <td>70</td>\n",
       "      <td>amc</td>\n",
       "      <td>rebel sst</td>\n",
       "    </tr>\n",
       "    <tr>\n",
       "      <th>4</th>\n",
       "      <td>17.0</td>\n",
       "      <td>8</td>\n",
       "      <td>302.0</td>\n",
       "      <td>140</td>\n",
       "      <td>3449</td>\n",
       "      <td>10.5</td>\n",
       "      <td>1</td>\n",
       "      <td>70</td>\n",
       "      <td>ford</td>\n",
       "      <td>torino</td>\n",
       "    </tr>\n",
       "  </tbody>\n",
       "</table>\n",
       "</div>"
      ],
      "text/plain": [
       "    MPG  Cylinders  Displacement Horsepower  Weight  Acceleration  Country  \\\n",
       "0  18.0          8         307.0        130    3504          12.0        1   \n",
       "1  15.0          8         350.0        165    3693          11.5        1   \n",
       "2  18.0          8         318.0        150    3436          11.0        1   \n",
       "3  16.0          8         304.0        150    3433          12.0        1   \n",
       "4  17.0          8         302.0        140    3449          10.5        1   \n",
       "\n",
       "   Year       Make            Model  \n",
       "0    70  chevrolet  chevelle malibu  \n",
       "1    70      buick      skylark 320  \n",
       "2    70   plymouth        satellite  \n",
       "3    70        amc        rebel sst  \n",
       "4    70       ford           torino  "
      ]
     },
     "execution_count": 11,
     "metadata": {},
     "output_type": "execute_result"
    }
   ],
   "source": [
    "data.head()"
   ]
  },
  {
   "cell_type": "code",
   "execution_count": 12,
   "id": "980c9004-44ba-4b76-b5d2-48ecac0ccead",
   "metadata": {},
   "outputs": [
    {
     "data": {
      "text/plain": [
       "MPG             0\n",
       "Cylinders       0\n",
       "Displacement    0\n",
       "Horsepower      0\n",
       "Weight          0\n",
       "Acceleration    0\n",
       "Country         0\n",
       "Year            0\n",
       "Make            0\n",
       "Model           2\n",
       "dtype: int64"
      ]
     },
     "execution_count": 12,
     "metadata": {},
     "output_type": "execute_result"
    }
   ],
   "source": [
    "# Look for null values\n",
    "data.isnull().sum()"
   ]
  },
  {
   "cell_type": "code",
   "execution_count": 13,
   "id": "490c19ac-5599-40ef-89a5-3b2c768482b6",
   "metadata": {},
   "outputs": [
    {
     "data": {
      "text/plain": [
       "MPG             float64\n",
       "Cylinders         int64\n",
       "Displacement    float64\n",
       "Horsepower       object\n",
       "Weight            int64\n",
       "Acceleration    float64\n",
       "Country           int64\n",
       "Year              int64\n",
       "Make             object\n",
       "Model            object\n",
       "dtype: object"
      ]
     },
     "execution_count": 13,
     "metadata": {},
     "output_type": "execute_result"
    }
   ],
   "source": [
    "# View the data types\n",
    "data.dtypes"
   ]
  },
  {
   "cell_type": "code",
   "execution_count": 14,
   "id": "98abc328-f1bc-4c8e-8b44-043b8143c32b",
   "metadata": {},
   "outputs": [
    {
     "data": {
      "text/plain": [
       "MPG              25.0\n",
       "Cylinders           4\n",
       "Displacement     98.0\n",
       "Horsepower          ?\n",
       "Weight           2046\n",
       "Acceleration     19.0\n",
       "Country             1\n",
       "Year               71\n",
       "Make             ford\n",
       "Model           pinto\n",
       "Name: 32, dtype: object"
      ]
     },
     "execution_count": 14,
     "metadata": {},
     "output_type": "execute_result"
    }
   ],
   "source": [
    "data.iloc[32]"
   ]
  },
  {
   "cell_type": "code",
   "execution_count": 15,
   "id": "47ce8ba7-df76-43c7-a078-6c26b7540312",
   "metadata": {},
   "outputs": [],
   "source": [
    "# Replace ? with blanks\n",
    "data.replace(to_replace=\"?\", value=None, inplace=True)"
   ]
  },
  {
   "cell_type": "code",
   "execution_count": 16,
   "id": "6b3f5cf1-11e0-43b4-93da-883bd3fef7c4",
   "metadata": {},
   "outputs": [],
   "source": [
    "# Drop records with missing values\n",
    "data = data.dropna()"
   ]
  },
  {
   "cell_type": "code",
   "execution_count": 17,
   "id": "7effa2ea-ec6a-49ad-a34a-5b94ff07b295",
   "metadata": {},
   "outputs": [],
   "source": [
    "# Convert Horsepower to int\n",
    "data['Horsepower'] = data['Horsepower'].astype(int)"
   ]
  },
  {
   "cell_type": "code",
   "execution_count": null,
   "id": "fcc704a1-272b-4efd-aee4-207310d85605",
   "metadata": {},
   "outputs": [],
   "source": []
  },
  {
   "cell_type": "code",
   "execution_count": 18,
   "id": "edf159eb-2d16-4788-ac60-64e3d6f3efe6",
   "metadata": {},
   "outputs": [
    {
     "data": {
      "text/plain": [
       "MPG             float64\n",
       "Cylinders         int64\n",
       "Displacement    float64\n",
       "Horsepower        int64\n",
       "Weight            int64\n",
       "Acceleration    float64\n",
       "Country           int64\n",
       "Year              int64\n",
       "Make             object\n",
       "Model            object\n",
       "dtype: object"
      ]
     },
     "execution_count": 18,
     "metadata": {},
     "output_type": "execute_result"
    }
   ],
   "source": [
    "data.dtypes"
   ]
  },
  {
   "cell_type": "code",
   "execution_count": 19,
   "id": "130fdecb-a40b-496f-8d96-be38dbfd30e6",
   "metadata": {},
   "outputs": [],
   "source": [
    "# format year\n",
    "data[\"Year\"] = data[\"Year\"].add(1900)"
   ]
  },
  {
   "cell_type": "markdown",
   "id": "18186a4c-424c-4650-be80-a4b60eaac7b2",
   "metadata": {
    "jp-MarkdownHeadingCollapsed": true,
    "tags": []
   },
   "source": [
    "# 3) Feature Selection & Feature Engineering"
   ]
  },
  {
   "cell_type": "code",
   "execution_count": 20,
   "id": "2948e9e2-0dcf-4fa8-bfdc-7d3879d96b84",
   "metadata": {},
   "outputs": [
    {
     "data": {
      "text/html": [
       "<div>\n",
       "<style scoped>\n",
       "    .dataframe tbody tr th:only-of-type {\n",
       "        vertical-align: middle;\n",
       "    }\n",
       "\n",
       "    .dataframe tbody tr th {\n",
       "        vertical-align: top;\n",
       "    }\n",
       "\n",
       "    .dataframe thead th {\n",
       "        text-align: right;\n",
       "    }\n",
       "</style>\n",
       "<table border=\"1\" class=\"dataframe\">\n",
       "  <thead>\n",
       "    <tr style=\"text-align: right;\">\n",
       "      <th></th>\n",
       "      <th>MPG</th>\n",
       "      <th>Cylinders</th>\n",
       "      <th>Displacement</th>\n",
       "      <th>Horsepower</th>\n",
       "      <th>Weight</th>\n",
       "      <th>Acceleration</th>\n",
       "      <th>Country</th>\n",
       "      <th>Year</th>\n",
       "      <th>Make</th>\n",
       "      <th>Model</th>\n",
       "    </tr>\n",
       "  </thead>\n",
       "  <tbody>\n",
       "    <tr>\n",
       "      <th>0</th>\n",
       "      <td>18.0</td>\n",
       "      <td>8</td>\n",
       "      <td>307.0</td>\n",
       "      <td>130</td>\n",
       "      <td>3504</td>\n",
       "      <td>12.0</td>\n",
       "      <td>1</td>\n",
       "      <td>1970</td>\n",
       "      <td>chevrolet</td>\n",
       "      <td>chevelle malibu</td>\n",
       "    </tr>\n",
       "  </tbody>\n",
       "</table>\n",
       "</div>"
      ],
      "text/plain": [
       "    MPG  Cylinders  Displacement  Horsepower  Weight  Acceleration  Country  \\\n",
       "0  18.0          8         307.0         130    3504          12.0        1   \n",
       "\n",
       "   Year       Make            Model  \n",
       "0  1970  chevrolet  chevelle malibu  "
      ]
     },
     "execution_count": 20,
     "metadata": {},
     "output_type": "execute_result"
    }
   ],
   "source": [
    "data.head(1)"
   ]
  },
  {
   "cell_type": "code",
   "execution_count": 21,
   "id": "be3b4fb7-3226-4b15-b8f4-54c9a722d3f0",
   "metadata": {},
   "outputs": [],
   "source": [
    "# Drop the Make and Model columns\n",
    "data = data.drop(\"Make\", axis=1)\n",
    "data = data.drop(\"Model\", axis=1)"
   ]
  },
  {
   "cell_type": "code",
   "execution_count": 22,
   "id": "4ff76bed-5723-4e71-a642-94e1d62e411b",
   "metadata": {},
   "outputs": [
    {
     "data": {
      "text/html": [
       "<div>\n",
       "<style scoped>\n",
       "    .dataframe tbody tr th:only-of-type {\n",
       "        vertical-align: middle;\n",
       "    }\n",
       "\n",
       "    .dataframe tbody tr th {\n",
       "        vertical-align: top;\n",
       "    }\n",
       "\n",
       "    .dataframe thead th {\n",
       "        text-align: right;\n",
       "    }\n",
       "</style>\n",
       "<table border=\"1\" class=\"dataframe\">\n",
       "  <thead>\n",
       "    <tr style=\"text-align: right;\">\n",
       "      <th></th>\n",
       "      <th>MPG</th>\n",
       "      <th>Cylinders</th>\n",
       "      <th>Displacement</th>\n",
       "      <th>Horsepower</th>\n",
       "      <th>Weight</th>\n",
       "      <th>Acceleration</th>\n",
       "      <th>Country</th>\n",
       "      <th>Year</th>\n",
       "    </tr>\n",
       "  </thead>\n",
       "  <tbody>\n",
       "    <tr>\n",
       "      <th>0</th>\n",
       "      <td>18.0</td>\n",
       "      <td>8</td>\n",
       "      <td>307.0</td>\n",
       "      <td>130</td>\n",
       "      <td>3504</td>\n",
       "      <td>12.0</td>\n",
       "      <td>1</td>\n",
       "      <td>1970</td>\n",
       "    </tr>\n",
       "  </tbody>\n",
       "</table>\n",
       "</div>"
      ],
      "text/plain": [
       "    MPG  Cylinders  Displacement  Horsepower  Weight  Acceleration  Country  \\\n",
       "0  18.0          8         307.0         130    3504          12.0        1   \n",
       "\n",
       "   Year  \n",
       "0  1970  "
      ]
     },
     "execution_count": 22,
     "metadata": {},
     "output_type": "execute_result"
    }
   ],
   "source": [
    "data.head(1)"
   ]
  },
  {
   "cell_type": "code",
   "execution_count": 23,
   "id": "849d9aee-9440-4179-86b1-8b0b7dfb2504",
   "metadata": {},
   "outputs": [],
   "source": [
    "# Change country to one hot encoding\n",
    "data['Country'] = data['Country'].map({1: 'USA', 2: 'Europe', 3: 'Japan'})\n",
    "data = pd.get_dummies(data, columns=['Country'], prefix='', prefix_sep='')"
   ]
  },
  {
   "cell_type": "code",
   "execution_count": 24,
   "id": "a9c5b936-57cc-415b-99af-60ac20f695e5",
   "metadata": {},
   "outputs": [
    {
     "data": {
      "text/html": [
       "<div>\n",
       "<style scoped>\n",
       "    .dataframe tbody tr th:only-of-type {\n",
       "        vertical-align: middle;\n",
       "    }\n",
       "\n",
       "    .dataframe tbody tr th {\n",
       "        vertical-align: top;\n",
       "    }\n",
       "\n",
       "    .dataframe thead th {\n",
       "        text-align: right;\n",
       "    }\n",
       "</style>\n",
       "<table border=\"1\" class=\"dataframe\">\n",
       "  <thead>\n",
       "    <tr style=\"text-align: right;\">\n",
       "      <th></th>\n",
       "      <th>MPG</th>\n",
       "      <th>Cylinders</th>\n",
       "      <th>Displacement</th>\n",
       "      <th>Horsepower</th>\n",
       "      <th>Weight</th>\n",
       "      <th>Acceleration</th>\n",
       "      <th>Year</th>\n",
       "      <th>Europe</th>\n",
       "      <th>Japan</th>\n",
       "      <th>USA</th>\n",
       "    </tr>\n",
       "  </thead>\n",
       "  <tbody>\n",
       "    <tr>\n",
       "      <th>0</th>\n",
       "      <td>18.0</td>\n",
       "      <td>8</td>\n",
       "      <td>307.0</td>\n",
       "      <td>130</td>\n",
       "      <td>3504</td>\n",
       "      <td>12.0</td>\n",
       "      <td>1970</td>\n",
       "      <td>0</td>\n",
       "      <td>0</td>\n",
       "      <td>1</td>\n",
       "    </tr>\n",
       "    <tr>\n",
       "      <th>1</th>\n",
       "      <td>15.0</td>\n",
       "      <td>8</td>\n",
       "      <td>350.0</td>\n",
       "      <td>165</td>\n",
       "      <td>3693</td>\n",
       "      <td>11.5</td>\n",
       "      <td>1970</td>\n",
       "      <td>0</td>\n",
       "      <td>0</td>\n",
       "      <td>1</td>\n",
       "    </tr>\n",
       "    <tr>\n",
       "      <th>2</th>\n",
       "      <td>18.0</td>\n",
       "      <td>8</td>\n",
       "      <td>318.0</td>\n",
       "      <td>150</td>\n",
       "      <td>3436</td>\n",
       "      <td>11.0</td>\n",
       "      <td>1970</td>\n",
       "      <td>0</td>\n",
       "      <td>0</td>\n",
       "      <td>1</td>\n",
       "    </tr>\n",
       "    <tr>\n",
       "      <th>3</th>\n",
       "      <td>16.0</td>\n",
       "      <td>8</td>\n",
       "      <td>304.0</td>\n",
       "      <td>150</td>\n",
       "      <td>3433</td>\n",
       "      <td>12.0</td>\n",
       "      <td>1970</td>\n",
       "      <td>0</td>\n",
       "      <td>0</td>\n",
       "      <td>1</td>\n",
       "    </tr>\n",
       "    <tr>\n",
       "      <th>4</th>\n",
       "      <td>17.0</td>\n",
       "      <td>8</td>\n",
       "      <td>302.0</td>\n",
       "      <td>140</td>\n",
       "      <td>3449</td>\n",
       "      <td>10.5</td>\n",
       "      <td>1970</td>\n",
       "      <td>0</td>\n",
       "      <td>0</td>\n",
       "      <td>1</td>\n",
       "    </tr>\n",
       "  </tbody>\n",
       "</table>\n",
       "</div>"
      ],
      "text/plain": [
       "    MPG  Cylinders  Displacement  Horsepower  Weight  Acceleration  Year  \\\n",
       "0  18.0          8         307.0         130    3504          12.0  1970   \n",
       "1  15.0          8         350.0         165    3693          11.5  1970   \n",
       "2  18.0          8         318.0         150    3436          11.0  1970   \n",
       "3  16.0          8         304.0         150    3433          12.0  1970   \n",
       "4  17.0          8         302.0         140    3449          10.5  1970   \n",
       "\n",
       "   Europe  Japan  USA  \n",
       "0       0      0    1  \n",
       "1       0      0    1  \n",
       "2       0      0    1  \n",
       "3       0      0    1  \n",
       "4       0      0    1  "
      ]
     },
     "execution_count": 24,
     "metadata": {},
     "output_type": "execute_result"
    }
   ],
   "source": [
    "data.head()"
   ]
  },
  {
   "cell_type": "code",
   "execution_count": 25,
   "id": "d85ec17b-8019-4720-8547-d8b4cc64daae",
   "metadata": {},
   "outputs": [
    {
     "data": {
      "text/html": [
       "<div>\n",
       "<style scoped>\n",
       "    .dataframe tbody tr th:only-of-type {\n",
       "        vertical-align: middle;\n",
       "    }\n",
       "\n",
       "    .dataframe tbody tr th {\n",
       "        vertical-align: top;\n",
       "    }\n",
       "\n",
       "    .dataframe thead th {\n",
       "        text-align: right;\n",
       "    }\n",
       "</style>\n",
       "<table border=\"1\" class=\"dataframe\">\n",
       "  <thead>\n",
       "    <tr style=\"text-align: right;\">\n",
       "      <th></th>\n",
       "      <th>MPG</th>\n",
       "      <th>Cylinders</th>\n",
       "      <th>Displacement</th>\n",
       "      <th>Horsepower</th>\n",
       "      <th>Weight</th>\n",
       "      <th>Acceleration</th>\n",
       "      <th>Year</th>\n",
       "      <th>Europe</th>\n",
       "      <th>Japan</th>\n",
       "      <th>USA</th>\n",
       "    </tr>\n",
       "  </thead>\n",
       "  <tbody>\n",
       "    <tr>\n",
       "      <th>MPG</th>\n",
       "      <td>1.000000</td>\n",
       "      <td>-0.777254</td>\n",
       "      <td>-0.804760</td>\n",
       "      <td>-0.777768</td>\n",
       "      <td>-0.831764</td>\n",
       "      <td>0.422076</td>\n",
       "      <td>0.579658</td>\n",
       "      <td>0.246606</td>\n",
       "      <td>0.449369</td>\n",
       "      <td>-0.563736</td>\n",
       "    </tr>\n",
       "    <tr>\n",
       "      <th>Cylinders</th>\n",
       "      <td>-0.777254</td>\n",
       "      <td>1.000000</td>\n",
       "      <td>0.950638</td>\n",
       "      <td>0.842898</td>\n",
       "      <td>0.897210</td>\n",
       "      <td>-0.504300</td>\n",
       "      <td>-0.345426</td>\n",
       "      <td>-0.355225</td>\n",
       "      <td>-0.400235</td>\n",
       "      <td>0.608541</td>\n",
       "    </tr>\n",
       "    <tr>\n",
       "      <th>Displacement</th>\n",
       "      <td>-0.804760</td>\n",
       "      <td>0.950638</td>\n",
       "      <td>1.000000</td>\n",
       "      <td>0.897275</td>\n",
       "      <td>0.932769</td>\n",
       "      <td>-0.543423</td>\n",
       "      <td>-0.369486</td>\n",
       "      <td>-0.374646</td>\n",
       "      <td>-0.437174</td>\n",
       "      <td>0.654213</td>\n",
       "    </tr>\n",
       "    <tr>\n",
       "      <th>Horsepower</th>\n",
       "      <td>-0.777768</td>\n",
       "      <td>0.842898</td>\n",
       "      <td>0.897275</td>\n",
       "      <td>1.000000</td>\n",
       "      <td>0.864284</td>\n",
       "      <td>-0.688670</td>\n",
       "      <td>-0.415064</td>\n",
       "      <td>-0.286980</td>\n",
       "      <td>-0.319117</td>\n",
       "      <td>0.488148</td>\n",
       "    </tr>\n",
       "    <tr>\n",
       "      <th>Weight</th>\n",
       "      <td>-0.831764</td>\n",
       "      <td>0.897210</td>\n",
       "      <td>0.932769</td>\n",
       "      <td>0.864284</td>\n",
       "      <td>1.000000</td>\n",
       "      <td>-0.415836</td>\n",
       "      <td>-0.307805</td>\n",
       "      <td>-0.296699</td>\n",
       "      <td>-0.444370</td>\n",
       "      <td>0.598945</td>\n",
       "    </tr>\n",
       "    <tr>\n",
       "      <th>Acceleration</th>\n",
       "      <td>0.422076</td>\n",
       "      <td>-0.504300</td>\n",
       "      <td>-0.543423</td>\n",
       "      <td>-0.688670</td>\n",
       "      <td>-0.415836</td>\n",
       "      <td>1.000000</td>\n",
       "      <td>0.288478</td>\n",
       "      <td>0.209536</td>\n",
       "      <td>0.112154</td>\n",
       "      <td>-0.256880</td>\n",
       "    </tr>\n",
       "    <tr>\n",
       "      <th>Year</th>\n",
       "      <td>0.579658</td>\n",
       "      <td>-0.345426</td>\n",
       "      <td>-0.369486</td>\n",
       "      <td>-0.415064</td>\n",
       "      <td>-0.307805</td>\n",
       "      <td>0.288478</td>\n",
       "      <td>1.000000</td>\n",
       "      <td>-0.036896</td>\n",
       "      <td>0.198186</td>\n",
       "      <td>-0.134272</td>\n",
       "    </tr>\n",
       "    <tr>\n",
       "      <th>Europe</th>\n",
       "      <td>0.246606</td>\n",
       "      <td>-0.355225</td>\n",
       "      <td>-0.374646</td>\n",
       "      <td>-0.286980</td>\n",
       "      <td>-0.296699</td>\n",
       "      <td>0.209536</td>\n",
       "      <td>-0.036896</td>\n",
       "      <td>1.000000</td>\n",
       "      <td>-0.227929</td>\n",
       "      <td>-0.597345</td>\n",
       "    </tr>\n",
       "    <tr>\n",
       "      <th>Japan</th>\n",
       "      <td>0.449369</td>\n",
       "      <td>-0.400235</td>\n",
       "      <td>-0.437174</td>\n",
       "      <td>-0.319117</td>\n",
       "      <td>-0.444370</td>\n",
       "      <td>0.112154</td>\n",
       "      <td>0.198186</td>\n",
       "      <td>-0.227929</td>\n",
       "      <td>1.000000</td>\n",
       "      <td>-0.644722</td>\n",
       "    </tr>\n",
       "    <tr>\n",
       "      <th>USA</th>\n",
       "      <td>-0.563736</td>\n",
       "      <td>0.608541</td>\n",
       "      <td>0.654213</td>\n",
       "      <td>0.488148</td>\n",
       "      <td>0.598945</td>\n",
       "      <td>-0.256880</td>\n",
       "      <td>-0.134272</td>\n",
       "      <td>-0.597345</td>\n",
       "      <td>-0.644722</td>\n",
       "      <td>1.000000</td>\n",
       "    </tr>\n",
       "  </tbody>\n",
       "</table>\n",
       "</div>"
      ],
      "text/plain": [
       "                   MPG  Cylinders  Displacement  Horsepower    Weight  \\\n",
       "MPG           1.000000  -0.777254     -0.804760   -0.777768 -0.831764   \n",
       "Cylinders    -0.777254   1.000000      0.950638    0.842898  0.897210   \n",
       "Displacement -0.804760   0.950638      1.000000    0.897275  0.932769   \n",
       "Horsepower   -0.777768   0.842898      0.897275    1.000000  0.864284   \n",
       "Weight       -0.831764   0.897210      0.932769    0.864284  1.000000   \n",
       "Acceleration  0.422076  -0.504300     -0.543423   -0.688670 -0.415836   \n",
       "Year          0.579658  -0.345426     -0.369486   -0.415064 -0.307805   \n",
       "Europe        0.246606  -0.355225     -0.374646   -0.286980 -0.296699   \n",
       "Japan         0.449369  -0.400235     -0.437174   -0.319117 -0.444370   \n",
       "USA          -0.563736   0.608541      0.654213    0.488148  0.598945   \n",
       "\n",
       "              Acceleration      Year    Europe     Japan       USA  \n",
       "MPG               0.422076  0.579658  0.246606  0.449369 -0.563736  \n",
       "Cylinders        -0.504300 -0.345426 -0.355225 -0.400235  0.608541  \n",
       "Displacement     -0.543423 -0.369486 -0.374646 -0.437174  0.654213  \n",
       "Horsepower       -0.688670 -0.415064 -0.286980 -0.319117  0.488148  \n",
       "Weight           -0.415836 -0.307805 -0.296699 -0.444370  0.598945  \n",
       "Acceleration      1.000000  0.288478  0.209536  0.112154 -0.256880  \n",
       "Year              0.288478  1.000000 -0.036896  0.198186 -0.134272  \n",
       "Europe            0.209536 -0.036896  1.000000 -0.227929 -0.597345  \n",
       "Japan             0.112154  0.198186 -0.227929  1.000000 -0.644722  \n",
       "USA              -0.256880 -0.134272 -0.597345 -0.644722  1.000000  "
      ]
     },
     "execution_count": 25,
     "metadata": {},
     "output_type": "execute_result"
    }
   ],
   "source": [
    "# Pairwise correlation\n",
    "data.corr(numeric_only=True)"
   ]
  },
  {
   "cell_type": "code",
   "execution_count": 26,
   "id": "d103e6f9-a430-4afa-8cf8-770cc27b9926",
   "metadata": {},
   "outputs": [
    {
     "data": {
      "text/plain": [
       "<AxesSubplot: xlabel='Weight', ylabel='MPG'>"
      ]
     },
     "execution_count": 26,
     "metadata": {},
     "output_type": "execute_result"
    },
    {
     "data": {
      "image/png": "[encoded data removed]",
      "text/plain": [
       "<Figure size 640x480 with 1 Axes>"
      ]
     },
     "metadata": {},
     "output_type": "display_data"
    }
   ],
   "source": [
    "# Graph Weight vs MPG\n",
    "data.plot(kind=\"scatter\", x=\"Weight\", y=\"MPG\")"
   ]
  },
  {
   "cell_type": "code",
   "execution_count": 27,
   "id": "edae13f7-a615-41e5-87c3-73d25a9a25bb",
   "metadata": {},
   "outputs": [
    {
     "data": {
      "text/plain": [
       "<AxesSubplot: xlabel='Displacement', ylabel='MPG'>"
      ]
     },
     "execution_count": 27,
     "metadata": {},
     "output_type": "execute_result"
    },
    {
     "data": {
      "image/png": "[encoded data removed]",
      "text/plain": [
       "<Figure size 640x480 with 1 Axes>"
      ]
     },
     "metadata": {},
     "output_type": "display_data"
    }
   ],
   "source": [
    "# Graph Displacement vs MPG\n",
    "data.plot(kind=\"scatter\", x=\"Displacement\", y=\"MPG\")"
   ]
  },
  {
   "cell_type": "code",
   "execution_count": 28,
   "id": "98df1ca5-dc42-4ca3-a356-3c1fa1500141",
   "metadata": {},
   "outputs": [
    {
     "data": {
      "text/plain": [
       "<AxesSubplot: xlabel='Horsepower', ylabel='MPG'>"
      ]
     },
     "execution_count": 28,
     "metadata": {},
     "output_type": "execute_result"
    },
    {
     "data": {
      "image/png": "[encoded data removed]",
      "text/plain": [
       "<Figure size 640x480 with 1 Axes>"
      ]
     },
     "metadata": {},
     "output_type": "display_data"
    }
   ],
   "source": [
    "# Graph Horsepower vs MPG\n",
    "data.plot(kind=\"scatter\", x=\"Horsepower\", y=\"MPG\")"
   ]
  },
  {
   "cell_type": "code",
   "execution_count": 29,
   "id": "59bafc19-8508-4b46-af7a-f0d7a73137d6",
   "metadata": {},
   "outputs": [
    {
     "data": {
      "text/plain": [
       "<AxesSubplot: xlabel='Cylinders', ylabel='MPG'>"
      ]
     },
     "execution_count": 29,
     "metadata": {},
     "output_type": "execute_result"
    },
    {
     "data": {
      "image/png": "[encoded data removed]",
      "text/plain": [
       "<Figure size 640x480 with 1 Axes>"
      ]
     },
     "metadata": {},
     "output_type": "display_data"
    }
   ],
   "source": [
    "# Graph Cylinders vs MPG\n",
    "data.plot(kind=\"scatter\", x=\"Cylinders\", y=\"MPG\")"
   ]
  },
  {
   "cell_type": "code",
   "execution_count": 30,
   "id": "3e4a3dff-784d-4a2d-9684-cd92621a8499",
   "metadata": {},
   "outputs": [
    {
     "name": "stdout",
     "output_type": "stream",
     "text": [
      "USA:  245\n",
      "Europe:  68\n",
      "Japan:  77\n"
     ]
    }
   ],
   "source": [
    "# Check for class imbalance\n",
    "print(\"USA: \", data[\"USA\"].sum())\n",
    "print(\"Europe: \", data[\"Europe\"].sum())\n",
    "print(\"Japan: \", data[\"Japan\"].sum())"
   ]
  },
  {
   "cell_type": "code",
   "execution_count": 31,
   "id": "69b811fe-99ca-4a55-a255-b6351b76d6e8",
   "metadata": {},
   "outputs": [],
   "source": [
    "# Drop country fields\n",
    "data = data.drop(\"USA\", axis=1)\n",
    "data = data.drop(\"Europe\", axis=1)\n",
    "data = data.drop(\"Japan\", axis=1)"
   ]
  },
  {
   "cell_type": "code",
   "execution_count": 32,
   "id": "323a730b-5d9f-4274-acae-58fb41ab4c6b",
   "metadata": {},
   "outputs": [
    {
     "data": {
      "text/html": [
       "<div>\n",
       "<style scoped>\n",
       "    .dataframe tbody tr th:only-of-type {\n",
       "        vertical-align: middle;\n",
       "    }\n",
       "\n",
       "    .dataframe tbody tr th {\n",
       "        vertical-align: top;\n",
       "    }\n",
       "\n",
       "    .dataframe thead th {\n",
       "        text-align: right;\n",
       "    }\n",
       "</style>\n",
       "<table border=\"1\" class=\"dataframe\">\n",
       "  <thead>\n",
       "    <tr style=\"text-align: right;\">\n",
       "      <th></th>\n",
       "      <th>MPG</th>\n",
       "      <th>Cylinders</th>\n",
       "      <th>Displacement</th>\n",
       "      <th>Horsepower</th>\n",
       "      <th>Weight</th>\n",
       "      <th>Acceleration</th>\n",
       "      <th>Year</th>\n",
       "    </tr>\n",
       "  </thead>\n",
       "  <tbody>\n",
       "    <tr>\n",
       "      <th>0</th>\n",
       "      <td>18.0</td>\n",
       "      <td>8</td>\n",
       "      <td>307.0</td>\n",
       "      <td>130</td>\n",
       "      <td>3504</td>\n",
       "      <td>12.0</td>\n",
       "      <td>1970</td>\n",
       "    </tr>\n",
       "    <tr>\n",
       "      <th>1</th>\n",
       "      <td>15.0</td>\n",
       "      <td>8</td>\n",
       "      <td>350.0</td>\n",
       "      <td>165</td>\n",
       "      <td>3693</td>\n",
       "      <td>11.5</td>\n",
       "      <td>1970</td>\n",
       "    </tr>\n",
       "    <tr>\n",
       "      <th>2</th>\n",
       "      <td>18.0</td>\n",
       "      <td>8</td>\n",
       "      <td>318.0</td>\n",
       "      <td>150</td>\n",
       "      <td>3436</td>\n",
       "      <td>11.0</td>\n",
       "      <td>1970</td>\n",
       "    </tr>\n",
       "    <tr>\n",
       "      <th>3</th>\n",
       "      <td>16.0</td>\n",
       "      <td>8</td>\n",
       "      <td>304.0</td>\n",
       "      <td>150</td>\n",
       "      <td>3433</td>\n",
       "      <td>12.0</td>\n",
       "      <td>1970</td>\n",
       "    </tr>\n",
       "    <tr>\n",
       "      <th>4</th>\n",
       "      <td>17.0</td>\n",
       "      <td>8</td>\n",
       "      <td>302.0</td>\n",
       "      <td>140</td>\n",
       "      <td>3449</td>\n",
       "      <td>10.5</td>\n",
       "      <td>1970</td>\n",
       "    </tr>\n",
       "  </tbody>\n",
       "</table>\n",
       "</div>"
      ],
      "text/plain": [
       "    MPG  Cylinders  Displacement  Horsepower  Weight  Acceleration  Year\n",
       "0  18.0          8         307.0         130    3504          12.0  1970\n",
       "1  15.0          8         350.0         165    3693          11.5  1970\n",
       "2  18.0          8         318.0         150    3436          11.0  1970\n",
       "3  16.0          8         304.0         150    3433          12.0  1970\n",
       "4  17.0          8         302.0         140    3449          10.5  1970"
      ]
     },
     "execution_count": 32,
     "metadata": {},
     "output_type": "execute_result"
    }
   ],
   "source": [
    "data.head()"
   ]
  },
  {
   "cell_type": "markdown",
   "id": "1939ea8f-556d-4318-b7a9-870f2d3cfd58",
   "metadata": {
    "jp-MarkdownHeadingCollapsed": true,
    "tags": []
   },
   "source": [
    "# 4) Model Training and Evaluation"
   ]
  },
  {
   "cell_type": "markdown",
   "id": "187b92d4-eda4-4277-b006-371dcfec40d7",
   "metadata": {},
   "source": [
    "## Data split (training vs testing)"
   ]
  },
  {
   "cell_type": "code",
   "execution_count": 33,
   "id": "e5c31197-8027-435a-be54-ab3deafed3ca",
   "metadata": {},
   "outputs": [],
   "source": [
    "# Training data\n",
    "training_data = data.head(310)\n",
    "\n",
    "# Testing data\n",
    "testing_data = data.tail(80)"
   ]
  },
  {
   "cell_type": "markdown",
   "id": "aec53bd1-6061-453f-8753-4ec069888a27",
   "metadata": {},
   "source": [
    "## Model 1 (Linear Regression with a single variable)"
   ]
  },
  {
   "cell_type": "code",
   "execution_count": 34,
   "id": "2beb8668-18b9-45fa-a130-7960104d22f0",
   "metadata": {},
   "outputs": [],
   "source": [
    "# y = mx + b\n",
    "\n",
    "# x = horsepower\n",
    "# y = mpg"
   ]
  },
  {
   "cell_type": "code",
   "execution_count": 35,
   "id": "7702a6cd-afaf-4140-9281-d66a57c8924c",
   "metadata": {},
   "outputs": [
    {
     "name": "stderr",
     "output_type": "stream",
     "text": [
      "2023-01-11 20:09:08.233026: I tensorflow/core/platform/cpu_feature_guard.cc:193] This TensorFlow binary is optimized with oneAPI Deep Neural Network Library (oneDNN) to use the following CPU instructions in performance-critical operations:  SSE4.1 SSE4.2 AVX FMA\n",
      "To enable them in other operations, rebuild TensorFlow with the appropriate compiler flags.\n"
     ]
    }
   ],
   "source": [
    "# Import some libraries\n",
    "import matplotlib.pyplot as plt\n",
    "import numpy as np\n",
    "import tensorflow as tf"
   ]
  },
  {
   "cell_type": "code",
   "execution_count": 36,
   "id": "4e2ad3b4-be9c-4083-8d90-cafb62e030b2",
   "metadata": {},
   "outputs": [
    {
     "name": "stderr",
     "output_type": "stream",
     "text": [
      "2023-01-11 20:09:12.055934: I tensorflow/core/platform/cpu_feature_guard.cc:193] This TensorFlow binary is optimized with oneAPI Deep Neural Network Library (oneDNN) to use the following CPU instructions in performance-critical operations:  SSE4.1 SSE4.2 AVX FMA\n",
      "To enable them in other operations, rebuild TensorFlow with the appropriate compiler flags.\n"
     ]
    }
   ],
   "source": [
    "# Define our first model\n",
    "model1 = tf.keras.Sequential()"
   ]
  },
  {
   "cell_type": "code",
   "execution_count": 37,
   "id": "fbed6ff0-9c26-4f49-9960-a3abdd3168a6",
   "metadata": {},
   "outputs": [],
   "source": [
    "# Define layers\n",
    "\n",
    "# Define layer 1\n",
    "layer1 = tf.keras.layers.Dense(1, input_shape=(1,))\n",
    "\n",
    "# Add layers to the model\n",
    "model1.add(layer1)"
   ]
  },
  {
   "cell_type": "code",
   "execution_count": 38,
   "id": "d1ce9948-da91-4621-94f3-73c6579bbdc7",
   "metadata": {},
   "outputs": [
    {
     "name": "stdout",
     "output_type": "stream",
     "text": [
      "Model: \"sequential\"\n",
      "_________________________________________________________________\n",
      " Layer (type)                Output Shape              Param #   \n",
      "=================================================================\n",
      " dense (Dense)               (None, 1)                 2         \n",
      "                                                                 \n",
      "=================================================================\n",
      "Total params: 2\n",
      "Trainable params: 2\n",
      "Non-trainable params: 0\n",
      "_________________________________________________________________\n"
     ]
    }
   ],
   "source": [
    "model1.summary()"
   ]
  },
  {
   "cell_type": "code",
   "execution_count": 39,
   "id": "2a3d6150-c179-40d2-a653-042ab4267626",
   "metadata": {},
   "outputs": [
    {
     "name": "stdout",
     "output_type": "stream",
     "text": [
      "You must install pydot (`pip install pydot`) and install graphviz (see instructions at https://graphviz.gitlab.io/download/) for plot_model to work.\n"
     ]
    }
   ],
   "source": [
    "tf.keras.utils.plot_model(model1, show_shapes=True, show_layer_names=True)"
   ]
  },
  {
   "cell_type": "code",
   "execution_count": 40,
   "id": "0002e06c-61e3-4181-a629-6933378386b2",
   "metadata": {},
   "outputs": [],
   "source": [
    "# Compile model1\n",
    "model1.compile(\n",
    "    optimizer=tf.keras.optimizers.Adam(learning_rate=0.1),\n",
    "    loss='mean_absolute_error')"
   ]
  },
  {
   "cell_type": "code",
   "execution_count": 41,
   "id": "759b7992-2e2b-4c0e-b5b1-1aff4fdb36ff",
   "metadata": {},
   "outputs": [
    {
     "name": "stderr",
     "output_type": "stream",
     "text": [
      "/opt/conda/lib/python3.10/site-packages/keras/engine/data_adapter.py:1699: FutureWarning: The behavior of `series[i:j]` with an integer-dtype index is deprecated. In a future version, this will be treated as *label-based* indexing, consistent with e.g. `series[i]` lookups. To retain the old behavior, use `series.iloc[i:j]`. To get the future behavior, use `series.loc[i:j]`.\n",
      "  return t[start:end]\n"
     ]
    },
    {
     "name": "stdout",
     "output_type": "stream",
     "text": [
      "Epoch 1/100\n",
      "8/8 [==============================] - 1s 23ms/step - loss: 122.0516 - val_loss: 55.3104\n",
      "Epoch 2/100\n",
      "8/8 [==============================] - 0s 6ms/step - loss: 34.9455 - val_loss: 22.3192\n",
      "Epoch 3/100\n",
      "8/8 [==============================] - 0s 6ms/step - loss: 26.6220 - val_loss: 24.7877\n",
      "Epoch 4/100\n",
      "8/8 [==============================] - 0s 5ms/step - loss: 14.3320 - val_loss: 13.5154\n",
      "Epoch 5/100\n",
      "8/8 [==============================] - 0s 5ms/step - loss: 16.7082 - val_loss: 10.9005\n",
      "Epoch 6/100\n",
      "8/8 [==============================] - 0s 5ms/step - loss: 12.1859 - val_loss: 13.3305\n",
      "Epoch 7/100\n",
      "8/8 [==============================] - 0s 5ms/step - loss: 11.3018 - val_loss: 9.9481\n",
      "Epoch 8/100\n",
      "8/8 [==============================] - 0s 8ms/step - loss: 11.4434 - val_loss: 13.7129\n",
      "Epoch 9/100\n",
      "8/8 [==============================] - 0s 5ms/step - loss: 11.1167 - val_loss: 11.6673\n",
      "Epoch 10/100\n",
      "8/8 [==============================] - 0s 5ms/step - loss: 10.8325 - val_loss: 10.5774\n",
      "Epoch 11/100\n",
      "8/8 [==============================] - 0s 5ms/step - loss: 10.6698 - val_loss: 11.4393\n",
      "Epoch 12/100\n",
      "8/8 [==============================] - 0s 5ms/step - loss: 10.5608 - val_loss: 11.4381\n",
      "Epoch 13/100\n",
      "8/8 [==============================] - 0s 5ms/step - loss: 10.4436 - val_loss: 10.9716\n",
      "Epoch 14/100\n",
      "8/8 [==============================] - 0s 5ms/step - loss: 10.3426 - val_loss: 11.1997\n",
      "Epoch 15/100\n",
      "8/8 [==============================] - 0s 6ms/step - loss: 10.4728 - val_loss: 10.2164\n",
      "Epoch 16/100\n",
      "8/8 [==============================] - 0s 6ms/step - loss: 10.3090 - val_loss: 11.0725\n",
      "Epoch 17/100\n",
      "8/8 [==============================] - 0s 5ms/step - loss: 10.0008 - val_loss: 9.9163\n",
      "Epoch 18/100\n",
      "8/8 [==============================] - 0s 5ms/step - loss: 9.9524 - val_loss: 11.5242\n",
      "Epoch 19/100\n",
      "8/8 [==============================] - 0s 5ms/step - loss: 9.6769 - val_loss: 9.6484\n",
      "Epoch 20/100\n",
      "8/8 [==============================] - 0s 5ms/step - loss: 9.6696 - val_loss: 11.6203\n",
      "Epoch 21/100\n",
      "8/8 [==============================] - 0s 5ms/step - loss: 9.5466 - val_loss: 10.3152\n",
      "Epoch 22/100\n",
      "8/8 [==============================] - 0s 6ms/step - loss: 9.1919 - val_loss: 9.8787\n",
      "Epoch 23/100\n",
      "8/8 [==============================] - 0s 5ms/step - loss: 9.0458 - val_loss: 9.9442\n",
      "Epoch 24/100\n",
      "8/8 [==============================] - 0s 5ms/step - loss: 9.0393 - val_loss: 10.0521\n",
      "Epoch 25/100\n",
      "8/8 [==============================] - 0s 5ms/step - loss: 8.7558 - val_loss: 10.6712\n",
      "Epoch 26/100\n",
      "8/8 [==============================] - 0s 5ms/step - loss: 8.6169 - val_loss: 9.2549\n",
      "Epoch 27/100\n",
      "8/8 [==============================] - 0s 5ms/step - loss: 9.1787 - val_loss: 11.7904\n",
      "Epoch 28/100\n",
      "8/8 [==============================] - 0s 5ms/step - loss: 8.2852 - val_loss: 8.0862\n",
      "Epoch 29/100\n",
      "8/8 [==============================] - 0s 5ms/step - loss: 9.0916 - val_loss: 13.2292\n",
      "Epoch 30/100\n",
      "8/8 [==============================] - 0s 5ms/step - loss: 8.9968 - val_loss: 8.3332\n",
      "Epoch 31/100\n",
      "8/8 [==============================] - 0s 5ms/step - loss: 7.9215 - val_loss: 7.7509\n",
      "Epoch 32/100\n",
      "8/8 [==============================] - 0s 5ms/step - loss: 8.2047 - val_loss: 12.3091\n",
      "Epoch 33/100\n",
      "8/8 [==============================] - 0s 6ms/step - loss: 7.7320 - val_loss: 7.7188\n",
      "Epoch 34/100\n",
      "8/8 [==============================] - 0s 8ms/step - loss: 7.7001 - val_loss: 10.9279\n",
      "Epoch 35/100\n",
      "8/8 [==============================] - 0s 6ms/step - loss: 7.4191 - val_loss: 8.3172\n",
      "Epoch 36/100\n",
      "8/8 [==============================] - 0s 5ms/step - loss: 7.4934 - val_loss: 7.2654\n",
      "Epoch 37/100\n",
      "8/8 [==============================] - 0s 5ms/step - loss: 7.4326 - val_loss: 9.3113\n",
      "Epoch 38/100\n",
      "8/8 [==============================] - 0s 5ms/step - loss: 7.0349 - val_loss: 9.1867\n",
      "Epoch 39/100\n",
      "8/8 [==============================] - 0s 5ms/step - loss: 6.8078 - val_loss: 7.0859\n",
      "Epoch 40/100\n",
      "8/8 [==============================] - 0s 6ms/step - loss: 6.8604 - val_loss: 9.4320\n",
      "Epoch 41/100\n",
      "8/8 [==============================] - 0s 5ms/step - loss: 6.6703 - val_loss: 10.4812\n",
      "Epoch 42/100\n",
      "8/8 [==============================] - 0s 5ms/step - loss: 6.4374 - val_loss: 6.6189\n",
      "Epoch 43/100\n",
      "8/8 [==============================] - 0s 5ms/step - loss: 7.1061 - val_loss: 6.6033\n",
      "Epoch 44/100\n",
      "8/8 [==============================] - 0s 5ms/step - loss: 6.7147 - val_loss: 6.7853\n",
      "Epoch 45/100\n",
      "8/8 [==============================] - 0s 6ms/step - loss: 6.8448 - val_loss: 8.5940\n",
      "Epoch 46/100\n",
      "8/8 [==============================] - 0s 5ms/step - loss: 6.3765 - val_loss: 11.3529\n",
      "Epoch 47/100\n",
      "8/8 [==============================] - 0s 5ms/step - loss: 6.8913 - val_loss: 6.2611\n",
      "Epoch 48/100\n",
      "8/8 [==============================] - 0s 5ms/step - loss: 6.4049 - val_loss: 6.5448\n",
      "Epoch 49/100\n",
      "8/8 [==============================] - 0s 5ms/step - loss: 6.4166 - val_loss: 6.3685\n",
      "Epoch 50/100\n",
      "8/8 [==============================] - 0s 6ms/step - loss: 5.7427 - val_loss: 6.4381\n",
      "Epoch 51/100\n",
      "8/8 [==============================] - 0s 5ms/step - loss: 5.7597 - val_loss: 8.2826\n",
      "Epoch 52/100\n",
      "8/8 [==============================] - 0s 5ms/step - loss: 5.4654 - val_loss: 7.6292\n",
      "Epoch 53/100\n",
      "8/8 [==============================] - 0s 5ms/step - loss: 5.0953 - val_loss: 6.8344\n",
      "Epoch 54/100\n",
      "8/8 [==============================] - 0s 6ms/step - loss: 4.9852 - val_loss: 7.7900\n",
      "Epoch 55/100\n",
      "8/8 [==============================] - 0s 5ms/step - loss: 5.1658 - val_loss: 7.8921\n",
      "Epoch 56/100\n",
      "8/8 [==============================] - 0s 5ms/step - loss: 5.0412 - val_loss: 6.3255\n",
      "Epoch 57/100\n",
      "8/8 [==============================] - 0s 5ms/step - loss: 4.8280 - val_loss: 5.7076\n",
      "Epoch 58/100\n",
      "8/8 [==============================] - 0s 5ms/step - loss: 5.4108 - val_loss: 5.8300\n",
      "Epoch 59/100\n",
      "8/8 [==============================] - 0s 5ms/step - loss: 5.0824 - val_loss: 6.0037\n",
      "Epoch 60/100\n",
      "8/8 [==============================] - 0s 5ms/step - loss: 4.7599 - val_loss: 5.9460\n",
      "Epoch 61/100\n",
      "8/8 [==============================] - 0s 5ms/step - loss: 4.4846 - val_loss: 5.2571\n",
      "Epoch 62/100\n",
      "8/8 [==============================] - 0s 5ms/step - loss: 4.5171 - val_loss: 5.7154\n",
      "Epoch 63/100\n",
      "8/8 [==============================] - 0s 5ms/step - loss: 4.3646 - val_loss: 5.2752\n",
      "Epoch 64/100\n",
      "8/8 [==============================] - 0s 5ms/step - loss: 4.3643 - val_loss: 5.9549\n",
      "Epoch 65/100\n",
      "8/8 [==============================] - 0s 5ms/step - loss: 4.2624 - val_loss: 5.2053\n",
      "Epoch 66/100\n",
      "8/8 [==============================] - 0s 5ms/step - loss: 4.0511 - val_loss: 5.2859\n",
      "Epoch 67/100\n",
      "8/8 [==============================] - 0s 6ms/step - loss: 4.3299 - val_loss: 5.0129\n",
      "Epoch 68/100\n",
      "8/8 [==============================] - 0s 6ms/step - loss: 4.0058 - val_loss: 5.6163\n",
      "Epoch 69/100\n",
      "8/8 [==============================] - 0s 5ms/step - loss: 3.9641 - val_loss: 5.2883\n",
      "Epoch 70/100\n",
      "8/8 [==============================] - 0s 5ms/step - loss: 3.8135 - val_loss: 6.4560\n",
      "Epoch 71/100\n",
      "8/8 [==============================] - 0s 5ms/step - loss: 3.7623 - val_loss: 4.8819\n",
      "Epoch 72/100\n",
      "8/8 [==============================] - 0s 5ms/step - loss: 3.6515 - val_loss: 6.3306\n",
      "Epoch 73/100\n",
      "8/8 [==============================] - 0s 6ms/step - loss: 3.8674 - val_loss: 6.4233\n",
      "Epoch 74/100\n",
      "8/8 [==============================] - 0s 6ms/step - loss: 4.2643 - val_loss: 6.2796\n",
      "Epoch 75/100\n",
      "8/8 [==============================] - 0s 5ms/step - loss: 3.7320 - val_loss: 4.6273\n",
      "Epoch 76/100\n",
      "8/8 [==============================] - 0s 5ms/step - loss: 3.6484 - val_loss: 5.1316\n",
      "Epoch 77/100\n",
      "8/8 [==============================] - 0s 5ms/step - loss: 3.5937 - val_loss: 5.3263\n",
      "Epoch 78/100\n",
      "8/8 [==============================] - 0s 5ms/step - loss: 3.6273 - val_loss: 6.2577\n",
      "Epoch 79/100\n",
      "8/8 [==============================] - 0s 6ms/step - loss: 3.7243 - val_loss: 5.6165\n",
      "Epoch 80/100\n",
      "8/8 [==============================] - 0s 5ms/step - loss: 3.7750 - val_loss: 4.4528\n",
      "Epoch 81/100\n",
      "8/8 [==============================] - 0s 5ms/step - loss: 3.8771 - val_loss: 4.4397\n",
      "Epoch 82/100\n",
      "8/8 [==============================] - 0s 5ms/step - loss: 4.3474 - val_loss: 4.3852\n",
      "Epoch 83/100\n",
      "8/8 [==============================] - 0s 5ms/step - loss: 3.8100 - val_loss: 4.4324\n",
      "Epoch 84/100\n",
      "8/8 [==============================] - 0s 5ms/step - loss: 3.4645 - val_loss: 4.6179\n",
      "Epoch 85/100\n",
      "8/8 [==============================] - 0s 5ms/step - loss: 3.2980 - val_loss: 4.3106\n",
      "Epoch 86/100\n",
      "8/8 [==============================] - 0s 6ms/step - loss: 3.4313 - val_loss: 4.6649\n",
      "Epoch 87/100\n",
      "8/8 [==============================] - 0s 8ms/step - loss: 3.5512 - val_loss: 4.8268\n",
      "Epoch 88/100\n",
      "8/8 [==============================] - 0s 6ms/step - loss: 3.7812 - val_loss: 4.3379\n",
      "Epoch 89/100\n",
      "8/8 [==============================] - 0s 6ms/step - loss: 4.4740 - val_loss: 4.2393\n",
      "Epoch 90/100\n",
      "8/8 [==============================] - 0s 6ms/step - loss: 3.7597 - val_loss: 4.5802\n",
      "Epoch 91/100\n",
      "8/8 [==============================] - 0s 6ms/step - loss: 3.7861 - val_loss: 4.1597\n",
      "Epoch 92/100\n",
      "8/8 [==============================] - 0s 5ms/step - loss: 3.6989 - val_loss: 4.1609\n",
      "Epoch 93/100\n",
      "8/8 [==============================] - 0s 6ms/step - loss: 3.5402 - val_loss: 5.2951\n",
      "Epoch 94/100\n",
      "8/8 [==============================] - 0s 6ms/step - loss: 3.4765 - val_loss: 5.7090\n",
      "Epoch 95/100\n",
      "8/8 [==============================] - 0s 5ms/step - loss: 3.4357 - val_loss: 4.5317\n",
      "Epoch 96/100\n",
      "8/8 [==============================] - 0s 6ms/step - loss: 3.1870 - val_loss: 4.7191\n",
      "Epoch 97/100\n",
      "8/8 [==============================] - 0s 5ms/step - loss: 3.1474 - val_loss: 5.3557\n",
      "Epoch 98/100\n",
      "8/8 [==============================] - 0s 5ms/step - loss: 3.2619 - val_loss: 4.6437\n",
      "Epoch 99/100\n",
      "8/8 [==============================] - 0s 5ms/step - loss: 3.1155 - val_loss: 4.7433\n",
      "Epoch 100/100\n",
      "8/8 [==============================] - 0s 5ms/step - loss: 3.2376 - val_loss: 4.6458\n"
     ]
    }
   ],
   "source": [
    "# Train model1\n",
    "history1 = model1.fit(\n",
    "    training_data['Horsepower'],  # Feature\n",
    "    training_data['MPG'],         # Label (Target value)\n",
    "    epochs = 100,                 # Rounds of training\n",
    "    validation_split = 0.2)       # Use 20% of the training data for validation"
   ]
  },
  {
   "cell_type": "code",
   "execution_count": 42,
   "id": "7cd28f89-970a-4119-8116-fcb239883227",
   "metadata": {},
   "outputs": [],
   "source": [
    "# Plot horsepower vs MPG\n",
    "def plot_HPvsMPG(data_hp, data_mph, pred_hp, pred_mpg):\n",
    "  # Plot real data\n",
    "  plt.scatter(data_hp, data_mph, label='Data')\n",
    "\n",
    "  # Plot predictions\n",
    "  plt.plot(pred_hp, pred_mpg, color='k', label='Predictions')\n",
    "\n",
    "  # Show legend\n",
    "  plt.xlabel('Horsepower')\n",
    "  plt.ylabel('MPG')\n",
    "  plt.legend()"
   ]
  },
  {
   "cell_type": "code",
   "execution_count": 43,
   "id": "d78d474d-be41-4c8d-92db-a9a85f658493",
   "metadata": {},
   "outputs": [
    {
     "name": "stdout",
     "output_type": "stream",
     "text": [
      "8/8 [==============================] - 0s 2ms/step\n"
     ]
    }
   ],
   "source": [
    "# Real data\n",
    "hp1 = training_data['Horsepower']\n",
    "mpg1 = training_data['MPG']\n",
    "\n",
    "# Predicted values\n",
    "hp2 = tf.linspace(0, 250, 251)\n",
    "mpg2 = model1.predict(hp2)"
   ]
  },
  {
   "cell_type": "code",
   "execution_count": 44,
   "id": "6880232c-1383-4a8c-9272-0a5134c7f55e",
   "metadata": {},
   "outputs": [
    {
     "data": {
      "image/png": "[encoded data removed]",
      "text/plain": [
       "<Figure size 640x480 with 1 Axes>"
      ]
     },
     "metadata": {},
     "output_type": "display_data"
    }
   ],
   "source": [
    "plot_HPvsMPG(hp1, mpg1, hp2, mpg2)"
   ]
  },
  {
   "cell_type": "code",
   "execution_count": 45,
   "id": "abb6b35d-77d6-4b48-91f2-e72f95d958a4",
   "metadata": {},
   "outputs": [],
   "source": [
    "# Get final results for model1\n",
    "testing = model1.evaluate(testing_data['Horsepower'], testing_data['MPG'], verbose=0)\n",
    "training = pd.DataFrame(history1.history).iloc[99]['loss']\n",
    "\n",
    "results = {}\n",
    "results['Baseline'] = training, testing"
   ]
  },
  {
   "cell_type": "code",
   "execution_count": 46,
   "id": "3bf1d3b5-5690-494f-9e29-1c44a2a558aa",
   "metadata": {},
   "outputs": [
    {
     "data": {
      "text/html": [
       "<div>\n",
       "<style scoped>\n",
       "    .dataframe tbody tr th:only-of-type {\n",
       "        vertical-align: middle;\n",
       "    }\n",
       "\n",
       "    .dataframe tbody tr th {\n",
       "        vertical-align: top;\n",
       "    }\n",
       "\n",
       "    .dataframe thead th {\n",
       "        text-align: right;\n",
       "    }\n",
       "</style>\n",
       "<table border=\"1\" class=\"dataframe\">\n",
       "  <thead>\n",
       "    <tr style=\"text-align: right;\">\n",
       "      <th></th>\n",
       "      <th>training loss</th>\n",
       "      <th>testing loss</th>\n",
       "    </tr>\n",
       "  </thead>\n",
       "  <tbody>\n",
       "    <tr>\n",
       "      <th>Baseline</th>\n",
       "      <td>3.237612</td>\n",
       "      <td>9.596869</td>\n",
       "    </tr>\n",
       "  </tbody>\n",
       "</table>\n",
       "</div>"
      ],
      "text/plain": [
       "          training loss  testing loss\n",
       "Baseline       3.237612      9.596869"
      ]
     },
     "execution_count": 46,
     "metadata": {},
     "output_type": "execute_result"
    }
   ],
   "source": [
    "pd.DataFrame(results, index=['training loss', 'testing loss']).T"
   ]
  },
  {
   "cell_type": "markdown",
   "id": "32833df4-ae5e-43ea-8be7-0ec44b72b76e",
   "metadata": {
    "jp-MarkdownHeadingCollapsed": true,
    "tags": []
   },
   "source": [
    "# 5) Improving the model"
   ]
  },
  {
   "cell_type": "code",
   "execution_count": 47,
   "id": "a39aaf16-90fd-4bf8-9ab0-2b6b8644b4c9",
   "metadata": {},
   "outputs": [
    {
     "data": {
      "text/html": [
       "<div>\n",
       "<style scoped>\n",
       "    .dataframe tbody tr th:only-of-type {\n",
       "        vertical-align: middle;\n",
       "    }\n",
       "\n",
       "    .dataframe tbody tr th {\n",
       "        vertical-align: top;\n",
       "    }\n",
       "\n",
       "    .dataframe thead th {\n",
       "        text-align: right;\n",
       "    }\n",
       "</style>\n",
       "<table border=\"1\" class=\"dataframe\">\n",
       "  <thead>\n",
       "    <tr style=\"text-align: right;\">\n",
       "      <th></th>\n",
       "      <th>MPG</th>\n",
       "      <th>Cylinders</th>\n",
       "      <th>Displacement</th>\n",
       "      <th>Horsepower</th>\n",
       "      <th>Weight</th>\n",
       "      <th>Acceleration</th>\n",
       "      <th>Year</th>\n",
       "    </tr>\n",
       "  </thead>\n",
       "  <tbody>\n",
       "    <tr>\n",
       "      <th>0</th>\n",
       "      <td>18.0</td>\n",
       "      <td>8</td>\n",
       "      <td>307.0</td>\n",
       "      <td>130</td>\n",
       "      <td>3504</td>\n",
       "      <td>12.0</td>\n",
       "      <td>1970</td>\n",
       "    </tr>\n",
       "    <tr>\n",
       "      <th>1</th>\n",
       "      <td>15.0</td>\n",
       "      <td>8</td>\n",
       "      <td>350.0</td>\n",
       "      <td>165</td>\n",
       "      <td>3693</td>\n",
       "      <td>11.5</td>\n",
       "      <td>1970</td>\n",
       "    </tr>\n",
       "    <tr>\n",
       "      <th>2</th>\n",
       "      <td>18.0</td>\n",
       "      <td>8</td>\n",
       "      <td>318.0</td>\n",
       "      <td>150</td>\n",
       "      <td>3436</td>\n",
       "      <td>11.0</td>\n",
       "      <td>1970</td>\n",
       "    </tr>\n",
       "    <tr>\n",
       "      <th>3</th>\n",
       "      <td>16.0</td>\n",
       "      <td>8</td>\n",
       "      <td>304.0</td>\n",
       "      <td>150</td>\n",
       "      <td>3433</td>\n",
       "      <td>12.0</td>\n",
       "      <td>1970</td>\n",
       "    </tr>\n",
       "    <tr>\n",
       "      <th>4</th>\n",
       "      <td>17.0</td>\n",
       "      <td>8</td>\n",
       "      <td>302.0</td>\n",
       "      <td>140</td>\n",
       "      <td>3449</td>\n",
       "      <td>10.5</td>\n",
       "      <td>1970</td>\n",
       "    </tr>\n",
       "  </tbody>\n",
       "</table>\n",
       "</div>"
      ],
      "text/plain": [
       "    MPG  Cylinders  Displacement  Horsepower  Weight  Acceleration  Year\n",
       "0  18.0          8         307.0         130    3504          12.0  1970\n",
       "1  15.0          8         350.0         165    3693          11.5  1970\n",
       "2  18.0          8         318.0         150    3436          11.0  1970\n",
       "3  16.0          8         304.0         150    3433          12.0  1970\n",
       "4  17.0          8         302.0         140    3449          10.5  1970"
      ]
     },
     "execution_count": 47,
     "metadata": {},
     "output_type": "execute_result"
    }
   ],
   "source": [
    "data.head()"
   ]
  },
  {
   "cell_type": "markdown",
   "id": "32b07899-8e37-4846-9b62-dcc2c48b3b0c",
   "metadata": {},
   "source": [
    "## Model 2 (with Normalized data)"
   ]
  },
  {
   "cell_type": "code",
   "execution_count": 48,
   "id": "da35225b-9743-4bee-91c3-c7e1bd824001",
   "metadata": {},
   "outputs": [],
   "source": [
    "# Define model 2\n",
    "model2 = tf.keras.Sequential()\n",
    "\n",
    "# Define layer 1\n",
    "layer1 = tf.keras.layers.Normalization(input_shape=[1,], axis=None)\n",
    "layer1.adapt(np.array(training_data['Horsepower']))\n",
    "\n",
    "# Define layer 2\n",
    "layer2 = tf.keras.layers.Dense(1)\n",
    "\n",
    "# Add layers\n",
    "model2.add(layer1)\n",
    "model2.add(layer2)"
   ]
  },
  {
   "cell_type": "code",
   "execution_count": 49,
   "id": "b0931fc4-0dcd-4f82-befd-17d37364260f",
   "metadata": {},
   "outputs": [
    {
     "name": "stdout",
     "output_type": "stream",
     "text": [
      "Model: \"sequential_1\"\n",
      "_________________________________________________________________\n",
      " Layer (type)                Output Shape              Param #   \n",
      "=================================================================\n",
      " normalization (Normalizatio  (None, 1)                3         \n",
      " n)                                                              \n",
      "                                                                 \n",
      " dense_1 (Dense)             (None, 1)                 2         \n",
      "                                                                 \n",
      "=================================================================\n",
      "Total params: 5\n",
      "Trainable params: 2\n",
      "Non-trainable params: 3\n",
      "_________________________________________________________________\n"
     ]
    }
   ],
   "source": [
    "model2.summary()"
   ]
  },
  {
   "cell_type": "code",
   "execution_count": 50,
   "id": "0c6cf0d5-ca3e-4b1c-af9b-dac2afd6c006",
   "metadata": {},
   "outputs": [
    {
     "name": "stdout",
     "output_type": "stream",
     "text": [
      "You must install pydot (`pip install pydot`) and install graphviz (see instructions at https://graphviz.gitlab.io/download/) for plot_model to work.\n"
     ]
    }
   ],
   "source": [
    "tf.keras.utils.plot_model(model2, show_shapes=True, show_layer_names=True)"
   ]
  },
  {
   "cell_type": "code",
   "execution_count": 51,
   "id": "3d070e15-b3a8-4779-ae49-8bc5daebf8dc",
   "metadata": {},
   "outputs": [],
   "source": [
    "# Compile model2\n",
    "model2.compile(\n",
    "    optimizer=tf.keras.optimizers.Adam(learning_rate=0.1),\n",
    "    loss='mean_absolute_error')"
   ]
  },
  {
   "cell_type": "code",
   "execution_count": 52,
   "id": "23cca703-4cd1-439b-9742-55fb8a091746",
   "metadata": {},
   "outputs": [
    {
     "name": "stderr",
     "output_type": "stream",
     "text": [
      "/opt/conda/lib/python3.10/site-packages/keras/engine/data_adapter.py:1699: FutureWarning: The behavior of `series[i:j]` with an integer-dtype index is deprecated. In a future version, this will be treated as *label-based* indexing, consistent with e.g. `series[i]` lookups. To retain the old behavior, use `series.iloc[i:j]`. To get the future behavior, use `series.loc[i:j]`.\n",
      "  return t[start:end]\n"
     ]
    }
   ],
   "source": [
    "# Train model2\n",
    "history2 = model2.fit(\n",
    "    training_data['Horsepower'],\n",
    "    training_data['MPG'],\n",
    "    epochs = 100,\n",
    "    verbose = 0,\n",
    "    validation_split = 0.2)"
   ]
  },
  {
   "cell_type": "code",
   "execution_count": 53,
   "id": "5838cc80-e6b0-40a9-baff-9bd1667a4a28",
   "metadata": {},
   "outputs": [
    {
     "name": "stdout",
     "output_type": "stream",
     "text": [
      "8/8 [==============================] - 0s 2ms/step\n"
     ]
    },
    {
     "data": {
      "image/png": "[encoded data removed]",
      "text/plain": [
       "<Figure size 640x480 with 1 Axes>"
      ]
     },
     "metadata": {},
     "output_type": "display_data"
    }
   ],
   "source": [
    "hp1 = training_data['Horsepower']\n",
    "mpg1 = training_data['MPG']\n",
    "\n",
    "hp2 = tf.linspace(0, 250, 251)\n",
    "mpg2 = model2.predict(hp2)\n",
    "\n",
    "plot_HPvsMPG(hp1, mpg1, hp2, mpg2)"
   ]
  },
  {
   "cell_type": "code",
   "execution_count": 54,
   "id": "8e0b1185-c8a5-4f08-81d9-afa9c638a17e",
   "metadata": {},
   "outputs": [],
   "source": [
    "# See the results\n",
    "testing = model2.evaluate(testing_data['Horsepower'], testing_data['MPG'], verbose=0)\n",
    "training = pd.DataFrame(history2.history).iloc[99]['loss']\n",
    "results['Normalization'] = training, testing"
   ]
  },
  {
   "cell_type": "code",
   "execution_count": 55,
   "id": "14483607-271e-4f9f-86ff-d1f5bab39e6e",
   "metadata": {},
   "outputs": [
    {
     "data": {
      "text/html": [
       "<div>\n",
       "<style scoped>\n",
       "    .dataframe tbody tr th:only-of-type {\n",
       "        vertical-align: middle;\n",
       "    }\n",
       "\n",
       "    .dataframe tbody tr th {\n",
       "        vertical-align: top;\n",
       "    }\n",
       "\n",
       "    .dataframe thead th {\n",
       "        text-align: right;\n",
       "    }\n",
       "</style>\n",
       "<table border=\"1\" class=\"dataframe\">\n",
       "  <thead>\n",
       "    <tr style=\"text-align: right;\">\n",
       "      <th></th>\n",
       "      <th>training loss</th>\n",
       "      <th>testing loss</th>\n",
       "    </tr>\n",
       "  </thead>\n",
       "  <tbody>\n",
       "    <tr>\n",
       "      <th>Baseline</th>\n",
       "      <td>3.237612</td>\n",
       "      <td>9.596869</td>\n",
       "    </tr>\n",
       "    <tr>\n",
       "      <th>Normalization</th>\n",
       "      <td>3.003903</td>\n",
       "      <td>7.795870</td>\n",
       "    </tr>\n",
       "  </tbody>\n",
       "</table>\n",
       "</div>"
      ],
      "text/plain": [
       "               training loss  testing loss\n",
       "Baseline            3.237612      9.596869\n",
       "Normalization       3.003903      7.795870"
      ]
     },
     "execution_count": 55,
     "metadata": {},
     "output_type": "execute_result"
    }
   ],
   "source": [
    "pd.DataFrame(results, index=['training loss', 'testing loss']).T"
   ]
  },
  {
   "cell_type": "markdown",
   "id": "00aeb296-3553-4488-b2bf-8f0dc0366257",
   "metadata": {},
   "source": [
    "## Model 3 (With proper sampling)"
   ]
  },
  {
   "cell_type": "code",
   "execution_count": 56,
   "id": "80b5f185-e52f-43c9-be5d-b00f9a5cf139",
   "metadata": {},
   "outputs": [],
   "source": [
    "# Re-define training and testing data\n",
    "training_data = data.sample(frac=.8, random_state=0)\n",
    "testing_data = data.drop(training_data.index)"
   ]
  },
  {
   "cell_type": "code",
   "execution_count": 57,
   "id": "1754a751-5522-4487-a227-533abbe3ec47",
   "metadata": {},
   "outputs": [],
   "source": [
    "# Define model 3\n",
    "model3 = tf.keras.Sequential()\n",
    "\n",
    "# Define layer 1\n",
    "layer1 = tf.keras.layers.Normalization(input_shape=[1,], axis=None)\n",
    "layer1.adapt(np.array(training_data['Horsepower']))\n",
    "\n",
    "# Define layer 2\n",
    "layer2 = tf.keras.layers.Dense(1)\n",
    "\n",
    "# Add layers\n",
    "model3.add(layer1)\n",
    "model3.add(layer2)"
   ]
  },
  {
   "cell_type": "code",
   "execution_count": 58,
   "id": "cd38c65c-d6d1-4b7c-82aa-081564a3955d",
   "metadata": {},
   "outputs": [],
   "source": [
    "# Compile model 3\n",
    "model3.compile(\n",
    "    optimizer=tf.keras.optimizers.Adam(learning_rate=0.1),\n",
    "    loss='mean_absolute_error')"
   ]
  },
  {
   "cell_type": "code",
   "execution_count": 59,
   "id": "67d87b31-8ea2-4a7e-9444-337f2f73f8c4",
   "metadata": {},
   "outputs": [
    {
     "name": "stderr",
     "output_type": "stream",
     "text": [
      "/opt/conda/lib/python3.10/site-packages/keras/engine/data_adapter.py:1699: FutureWarning: The behavior of `series[i:j]` with an integer-dtype index is deprecated. In a future version, this will be treated as *label-based* indexing, consistent with e.g. `series[i]` lookups. To retain the old behavior, use `series.iloc[i:j]`. To get the future behavior, use `series.loc[i:j]`.\n",
      "  return t[start:end]\n"
     ]
    }
   ],
   "source": [
    "# Train model 3\n",
    "history3 = model3.fit(\n",
    "    training_data['Horsepower'],\n",
    "    training_data['MPG'],\n",
    "    epochs = 100,\n",
    "    verbose = 0,\n",
    "    validation_split = 0.2)"
   ]
  },
  {
   "cell_type": "code",
   "execution_count": 60,
   "id": "bd2f73f1-b3de-415c-8aed-dec2a046ed61",
   "metadata": {},
   "outputs": [
    {
     "name": "stdout",
     "output_type": "stream",
     "text": [
      "8/8 [==============================] - 0s 1ms/step\n"
     ]
    },
    {
     "data": {
      "image/png": "[encoded data removed]",
      "text/plain": [
       "<Figure size 640x480 with 1 Axes>"
      ]
     },
     "metadata": {},
     "output_type": "display_data"
    }
   ],
   "source": [
    "# Plot the results\n",
    "hp1 = training_data['Horsepower']\n",
    "mpg1 = training_data['MPG']\n",
    "\n",
    "hp2 = tf.linspace(0, 250, 251)\n",
    "mpg2 = model3.predict(hp2)\n",
    "\n",
    "plot_HPvsMPG(hp1, mpg1, hp2, mpg2)"
   ]
  },
  {
   "cell_type": "code",
   "execution_count": 61,
   "id": "200de105-b3bd-41ff-8f01-1c0f78352b7c",
   "metadata": {},
   "outputs": [],
   "source": [
    "# See the final results\n",
    "testing = model3.evaluate(testing_data['Horsepower'], testing_data['MPG'], verbose=0)\n",
    "training = pd.DataFrame(history3.history).iloc[99]['loss']\n",
    "results['Sampling'] = training, testing"
   ]
  },
  {
   "cell_type": "code",
   "execution_count": 62,
   "id": "f4553414-9047-4d12-b297-e751e49667b2",
   "metadata": {},
   "outputs": [
    {
     "data": {
      "text/html": [
       "<div>\n",
       "<style scoped>\n",
       "    .dataframe tbody tr th:only-of-type {\n",
       "        vertical-align: middle;\n",
       "    }\n",
       "\n",
       "    .dataframe tbody tr th {\n",
       "        vertical-align: top;\n",
       "    }\n",
       "\n",
       "    .dataframe thead th {\n",
       "        text-align: right;\n",
       "    }\n",
       "</style>\n",
       "<table border=\"1\" class=\"dataframe\">\n",
       "  <thead>\n",
       "    <tr style=\"text-align: right;\">\n",
       "      <th></th>\n",
       "      <th>training loss</th>\n",
       "      <th>testing loss</th>\n",
       "    </tr>\n",
       "  </thead>\n",
       "  <tbody>\n",
       "    <tr>\n",
       "      <th>Baseline</th>\n",
       "      <td>3.237612</td>\n",
       "      <td>9.596869</td>\n",
       "    </tr>\n",
       "    <tr>\n",
       "      <th>Normalization</th>\n",
       "      <td>3.003903</td>\n",
       "      <td>7.795870</td>\n",
       "    </tr>\n",
       "    <tr>\n",
       "      <th>Sampling</th>\n",
       "      <td>3.768559</td>\n",
       "      <td>4.064760</td>\n",
       "    </tr>\n",
       "  </tbody>\n",
       "</table>\n",
       "</div>"
      ],
      "text/plain": [
       "               training loss  testing loss\n",
       "Baseline            3.237612      9.596869\n",
       "Normalization       3.003903      7.795870\n",
       "Sampling            3.768559      4.064760"
      ]
     },
     "execution_count": 62,
     "metadata": {},
     "output_type": "execute_result"
    }
   ],
   "source": [
    "pd.DataFrame(results, index=['training loss', 'testing loss']).T"
   ]
  },
  {
   "cell_type": "markdown",
   "id": "6550365e-0d91-456b-8bd8-55cdeaafc004",
   "metadata": {},
   "source": [
    "## Model 4 (using Deep Learning)"
   ]
  },
  {
   "cell_type": "code",
   "execution_count": 63,
   "id": "e5986e81-c151-4fc1-88a9-f19da6b45e0a",
   "metadata": {},
   "outputs": [],
   "source": [
    "# Define model 4\n",
    "model4 = tf.keras.Sequential()\n",
    "\n",
    "# Define layer 1\n",
    "layer1 = tf.keras.layers.Normalization(input_shape=[1,], axis=None)\n",
    "layer1.adapt(np.array(training_data['Horsepower']))\n",
    "\n",
    "# Define layer 2\n",
    "layer2 = tf.keras.layers.Dense(64, activation='relu')\n",
    "\n",
    "# Define layer 3\n",
    "layer3 = tf.keras.layers.Dense(64, activation='relu')\n",
    "\n",
    "# Define layer 4\n",
    "layer4 = tf.keras.layers.Dense(1)\n",
    "\n",
    "# Add layers\n",
    "model4.add(layer1)\n",
    "model4.add(layer2)\n",
    "model4.add(layer3)\n",
    "model4.add(layer4)"
   ]
  },
  {
   "cell_type": "code",
   "execution_count": 64,
   "id": "c4aba309-a744-4652-a36e-c2396b3f334c",
   "metadata": {},
   "outputs": [],
   "source": [
    "# Compile model 4\n",
    "model4.compile(\n",
    "    optimizer=tf.keras.optimizers.Adam(0.001),\n",
    "    loss='mean_absolute_error')"
   ]
  },
  {
   "cell_type": "code",
   "execution_count": 65,
   "id": "7bb90671-b5f3-40b5-bc08-47fc1e45a6dd",
   "metadata": {},
   "outputs": [
    {
     "name": "stdout",
     "output_type": "stream",
     "text": [
      "Model: \"sequential_3\"\n",
      "_________________________________________________________________\n",
      " Layer (type)                Output Shape              Param #   \n",
      "=================================================================\n",
      " normalization_2 (Normalizat  (None, 1)                3         \n",
      " ion)                                                            \n",
      "                                                                 \n",
      " dense_3 (Dense)             (None, 64)                128       \n",
      "                                                                 \n",
      " dense_4 (Dense)             (None, 64)                4160      \n",
      "                                                                 \n",
      " dense_5 (Dense)             (None, 1)                 65        \n",
      "                                                                 \n",
      "=================================================================\n",
      "Total params: 4,356\n",
      "Trainable params: 4,353\n",
      "Non-trainable params: 3\n",
      "_________________________________________________________________\n"
     ]
    }
   ],
   "source": [
    "model4.summary()"
   ]
  },
  {
   "cell_type": "code",
   "execution_count": 66,
   "id": "6eed2985-e386-40af-8f1d-47bbc4deac35",
   "metadata": {},
   "outputs": [
    {
     "name": "stderr",
     "output_type": "stream",
     "text": [
      "/opt/conda/lib/python3.10/site-packages/keras/engine/data_adapter.py:1699: FutureWarning: The behavior of `series[i:j]` with an integer-dtype index is deprecated. In a future version, this will be treated as *label-based* indexing, consistent with e.g. `series[i]` lookups. To retain the old behavior, use `series.iloc[i:j]`. To get the future behavior, use `series.loc[i:j]`.\n",
      "  return t[start:end]\n"
     ]
    }
   ],
   "source": [
    "# Train model 4\n",
    "history4 = model4.fit(\n",
    "    training_data['Horsepower'],  # Feature\n",
    "    training_data['MPG'],         # Label (Target value)\n",
    "    epochs = 100,                 # Rounds of training\n",
    "    verbose = 0,                  # Suppress logging\n",
    "    validation_split = 0.2)       # Use 20% of the training data for validation"
   ]
  },
  {
   "cell_type": "code",
   "execution_count": 67,
   "id": "1628224c-3dc5-4dd4-83d7-fb527a91d712",
   "metadata": {},
   "outputs": [
    {
     "name": "stdout",
     "output_type": "stream",
     "text": [
      "8/8 [==============================] - 0s 1ms/step\n"
     ]
    },
    {
     "data": {
      "image/png": "[encoded data removed]",
      "text/plain": [
       "<Figure size 640x480 with 1 Axes>"
      ]
     },
     "metadata": {},
     "output_type": "display_data"
    }
   ],
   "source": [
    "# Plot the results\n",
    "hp1 = training_data['Horsepower']\n",
    "mpg1 = training_data['MPG']\n",
    "\n",
    "hp2 = tf.linspace(0, 250, 251)\n",
    "mpg2 = model4.predict(hp2)\n",
    "\n",
    "plot_HPvsMPG(hp1, mpg1, hp2, mpg2)"
   ]
  },
  {
   "cell_type": "code",
   "execution_count": 68,
   "id": "fae424a6-c8cb-403a-b3a1-40eadebb3128",
   "metadata": {},
   "outputs": [],
   "source": [
    "# Get the final results\n",
    "testing = model4.evaluate(testing_data['Horsepower'], testing_data['MPG'], verbose=0)\n",
    "training = pd.DataFrame(history4.history).iloc[99]['loss']\n",
    "results['DeepLearning'] = training, testing"
   ]
  },
  {
   "cell_type": "code",
   "execution_count": 69,
   "id": "59755c5b-5247-4528-9949-ded0467c1fb8",
   "metadata": {},
   "outputs": [
    {
     "data": {
      "text/html": [
       "<div>\n",
       "<style scoped>\n",
       "    .dataframe tbody tr th:only-of-type {\n",
       "        vertical-align: middle;\n",
       "    }\n",
       "\n",
       "    .dataframe tbody tr th {\n",
       "        vertical-align: top;\n",
       "    }\n",
       "\n",
       "    .dataframe thead th {\n",
       "        text-align: right;\n",
       "    }\n",
       "</style>\n",
       "<table border=\"1\" class=\"dataframe\">\n",
       "  <thead>\n",
       "    <tr style=\"text-align: right;\">\n",
       "      <th></th>\n",
       "      <th>training loss</th>\n",
       "      <th>testing loss</th>\n",
       "    </tr>\n",
       "  </thead>\n",
       "  <tbody>\n",
       "    <tr>\n",
       "      <th>Baseline</th>\n",
       "      <td>3.237612</td>\n",
       "      <td>9.596869</td>\n",
       "    </tr>\n",
       "    <tr>\n",
       "      <th>Normalization</th>\n",
       "      <td>3.003903</td>\n",
       "      <td>7.795870</td>\n",
       "    </tr>\n",
       "    <tr>\n",
       "      <th>Sampling</th>\n",
       "      <td>3.768559</td>\n",
       "      <td>4.064760</td>\n",
       "    </tr>\n",
       "    <tr>\n",
       "      <th>DeepLearning</th>\n",
       "      <td>3.237263</td>\n",
       "      <td>3.584451</td>\n",
       "    </tr>\n",
       "  </tbody>\n",
       "</table>\n",
       "</div>"
      ],
      "text/plain": [
       "               training loss  testing loss\n",
       "Baseline            3.237612      9.596869\n",
       "Normalization       3.003903      7.795870\n",
       "Sampling            3.768559      4.064760\n",
       "DeepLearning        3.237263      3.584451"
      ]
     },
     "execution_count": 69,
     "metadata": {},
     "output_type": "execute_result"
    }
   ],
   "source": [
    "pd.DataFrame(results, index=['training loss', 'testing loss']).T"
   ]
  },
  {
   "cell_type": "markdown",
   "id": "20b61fb7-3799-4d00-89de-578bc094ba2e",
   "metadata": {},
   "source": [
    "## Model 5 (DL with multiple features)"
   ]
  },
  {
   "cell_type": "code",
   "execution_count": 70,
   "id": "13927140-8bfa-4a38-a315-28f39510a3f2",
   "metadata": {},
   "outputs": [],
   "source": [
    "# Define training data\n",
    "training_data = data.sample(frac=.8, random_state=0)\n",
    "training_features = training_data.drop(\"MPG\", axis=1)\n",
    "training_labels = training_data['MPG']"
   ]
  },
  {
   "cell_type": "code",
   "execution_count": 71,
   "id": "d8a03306-7bb5-4362-8cb7-a4cf79244a8b",
   "metadata": {},
   "outputs": [],
   "source": [
    "# Define testing data\n",
    "testing_data = data.drop(training_data.index)\n",
    "testing_features = testing_data.drop(\"MPG\", axis=1)\n",
    "testing_labels = testing_data['MPG']"
   ]
  },
  {
   "cell_type": "code",
   "execution_count": 72,
   "id": "8323c66c-67ca-445c-b62e-1da5deae7151",
   "metadata": {},
   "outputs": [],
   "source": [
    "# Define model 5\n",
    "model5 = tf.keras.Sequential()\n",
    "\n",
    "# Define layer 1\n",
    "layer1 = tf.keras.layers.Normalization(axis=-1)\n",
    "layer1.adapt(np.array(training_features))\n",
    "\n",
    "# Define layer 2\n",
    "layer2 = tf.keras.layers.Dense(64, activation='relu')\n",
    "\n",
    "# Define layer 3\n",
    "layer3 = tf.keras.layers.Dense(64, activation='relu')\n",
    "\n",
    "# Define layer 4\n",
    "layer4 = tf.keras.layers.Dense(1)\n",
    "\n",
    "# Add layers\n",
    "model5.add(layer1)\n",
    "model5.add(layer2)\n",
    "model5.add(layer3)\n",
    "model5.add(layer4)"
   ]
  },
  {
   "cell_type": "code",
   "execution_count": 73,
   "id": "535a04c8-3289-40b1-99fc-33164cda97ec",
   "metadata": {},
   "outputs": [],
   "source": [
    "# Compile model 5\n",
    "model5.compile(\n",
    "    optimizer=tf.keras.optimizers.Adam(0.001),\n",
    "    loss='mean_absolute_error')"
   ]
  },
  {
   "cell_type": "code",
   "execution_count": 74,
   "id": "a2304401-66ed-4e54-a657-e5effdb1b848",
   "metadata": {},
   "outputs": [
    {
     "name": "stdout",
     "output_type": "stream",
     "text": [
      "Model: \"sequential_4\"\n",
      "_________________________________________________________________\n",
      " Layer (type)                Output Shape              Param #   \n",
      "=================================================================\n",
      " normalization_3 (Normalizat  (None, 6)                13        \n",
      " ion)                                                            \n",
      "                                                                 \n",
      " dense_6 (Dense)             (None, 64)                448       \n",
      "                                                                 \n",
      " dense_7 (Dense)             (None, 64)                4160      \n",
      "                                                                 \n",
      " dense_8 (Dense)             (None, 1)                 65        \n",
      "                                                                 \n",
      "=================================================================\n",
      "Total params: 4,686\n",
      "Trainable params: 4,673\n",
      "Non-trainable params: 13\n",
      "_________________________________________________________________\n"
     ]
    }
   ],
   "source": [
    "model5.summary()"
   ]
  },
  {
   "cell_type": "code",
   "execution_count": 75,
   "id": "346c6cc9-4ab0-4932-8381-fedb2b9f8345",
   "metadata": {},
   "outputs": [
    {
     "name": "stderr",
     "output_type": "stream",
     "text": [
      "/opt/conda/lib/python3.10/site-packages/keras/engine/data_adapter.py:1699: FutureWarning: The behavior of `series[i:j]` with an integer-dtype index is deprecated. In a future version, this will be treated as *label-based* indexing, consistent with e.g. `series[i]` lookups. To retain the old behavior, use `series.iloc[i:j]`. To get the future behavior, use `series.loc[i:j]`.\n",
      "  return t[start:end]\n"
     ]
    }
   ],
   "source": [
    "# Train model 5\n",
    "history5 = model5.fit(\n",
    "    training_features,\n",
    "    training_labels,\n",
    "    epochs = 100,\n",
    "    verbose = 0,\n",
    "    validation_split = 0.2)"
   ]
  },
  {
   "cell_type": "code",
   "execution_count": 76,
   "id": "951a95cd-a524-4604-87c4-725219af05c5",
   "metadata": {},
   "outputs": [],
   "source": [
    "# Get final results\n",
    "testing = model5.evaluate(testing_features, testing_labels, verbose=0)\n",
    "training = pd.DataFrame(history5.history).iloc[99]['loss']\n",
    "results['MultipleVars'] = training, testing"
   ]
  },
  {
   "cell_type": "code",
   "execution_count": 77,
   "id": "cfd6f3e7-29e7-4433-916e-03f4e3b6a874",
   "metadata": {},
   "outputs": [
    {
     "data": {
      "text/html": [
       "<div>\n",
       "<style scoped>\n",
       "    .dataframe tbody tr th:only-of-type {\n",
       "        vertical-align: middle;\n",
       "    }\n",
       "\n",
       "    .dataframe tbody tr th {\n",
       "        vertical-align: top;\n",
       "    }\n",
       "\n",
       "    .dataframe thead th {\n",
       "        text-align: right;\n",
       "    }\n",
       "</style>\n",
       "<table border=\"1\" class=\"dataframe\">\n",
       "  <thead>\n",
       "    <tr style=\"text-align: right;\">\n",
       "      <th></th>\n",
       "      <th>training loss</th>\n",
       "      <th>testing loss</th>\n",
       "    </tr>\n",
       "  </thead>\n",
       "  <tbody>\n",
       "    <tr>\n",
       "      <th>Baseline</th>\n",
       "      <td>3.237612</td>\n",
       "      <td>9.596869</td>\n",
       "    </tr>\n",
       "    <tr>\n",
       "      <th>Normalization</th>\n",
       "      <td>3.003903</td>\n",
       "      <td>7.795870</td>\n",
       "    </tr>\n",
       "    <tr>\n",
       "      <th>Sampling</th>\n",
       "      <td>3.768559</td>\n",
       "      <td>4.064760</td>\n",
       "    </tr>\n",
       "    <tr>\n",
       "      <th>DeepLearning</th>\n",
       "      <td>3.237263</td>\n",
       "      <td>3.584451</td>\n",
       "    </tr>\n",
       "    <tr>\n",
       "      <th>MultipleVars</th>\n",
       "      <td>1.715256</td>\n",
       "      <td>2.186262</td>\n",
       "    </tr>\n",
       "  </tbody>\n",
       "</table>\n",
       "</div>"
      ],
      "text/plain": [
       "               training loss  testing loss\n",
       "Baseline            3.237612      9.596869\n",
       "Normalization       3.003903      7.795870\n",
       "Sampling            3.768559      4.064760\n",
       "DeepLearning        3.237263      3.584451\n",
       "MultipleVars        1.715256      2.186262"
      ]
     },
     "execution_count": 77,
     "metadata": {},
     "output_type": "execute_result"
    }
   ],
   "source": [
    "pd.DataFrame(results, index=['training loss', 'testing loss']).T"
   ]
  },
  {
   "cell_type": "markdown",
   "id": "bdcd1a08-b3be-4a2c-9e4c-b7b850dc0e1a",
   "metadata": {
    "tags": []
   },
   "source": [
    "# 6) Further Steps"
   ]
  },
  {
   "cell_type": "markdown",
   "id": "5c60f56b-cbc2-4932-ba77-9d27ee78faa0",
   "metadata": {},
   "source": [
    "## Hyperparameter tuning"
   ]
  },
  {
   "cell_type": "markdown",
   "id": "45ec3a69-cfb8-4cdf-b9a4-dd9972fa5000",
   "metadata": {},
   "source": [
    "## Save your model"
   ]
  },
  {
   "cell_type": "code",
   "execution_count": 78,
   "id": "f5e16e2d-c6c9-497c-acec-c0953bc0a942",
   "metadata": {},
   "outputs": [
    {
     "name": "stdout",
     "output_type": "stream",
     "text": [
      "INFO:tensorflow:Assets written to: mpg_model_5/assets\n"
     ]
    }
   ],
   "source": [
    "model5.save('mpg_model_5')"
   ]
  },
  {
   "cell_type": "code",
   "execution_count": null,
   "id": "afda8da3-d676-4812-84a8-803ad761b668",
   "metadata": {},
   "outputs": [],
   "source": []
  }
 ],
 "metadata": {
  "kernelspec": {
   "display_name": "Python 3 (ipykernel)",
   "language": "python",
   "name": "python3"
  },
  "language_info": {
   "codemirror_mode": {
    "name": "ipython",
    "version": 3
   },
   "file_extension": ".py",
   "mimetype": "text/x-python",
   "name": "python",
   "nbconvert_exporter": "python",
   "pygments_lexer": "ipython3",
   "version": "3.10.8"
  }
 },
 "nbformat": 4,
 "nbformat_minor": 5
}
